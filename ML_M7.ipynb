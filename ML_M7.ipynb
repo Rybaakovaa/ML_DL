{
 "cells": [
  {
   "cell_type": "markdown",
   "id": "2c9b9d9d-be4d-4eec-bfd1-cfcdc0155001",
   "metadata": {},
   "source": [
    "# Модуль 7. Валидация данных"
   ]
  },
  {
   "cell_type": "code",
   "execution_count": 5,
   "id": "494b1cd1-9eb4-43a6-84b9-36824a52e41b",
   "metadata": {},
   "outputs": [],
   "source": [
    "from sklearn.metrics import mean_squared_error\n",
    "import numpy as np"
   ]
  },
  {
   "cell_type": "markdown",
   "id": "4a8cee7b-ec34-4acc-bb00-472d9a29c299",
   "metadata": {},
   "source": [
    "### Задание 7.4.5"
   ]
  },
  {
   "cell_type": "code",
   "execution_count": 7,
   "id": "e342bd30-16e2-4588-ac7b-91be871839fc",
   "metadata": {},
   "outputs": [
    {
     "name": "stdout",
     "output_type": "stream",
     "text": [
      "RMSE: 5.75\n"
     ]
    }
   ],
   "source": [
    "y_true = [1.23, 2.35, 2.75] \n",
    "y_pred = [1.01, 12.3, 2.74]\n",
    "\n",
    "mse = mean_squared_error(y_true, y_pred)\n",
    "rmse = np.sqrt(mse)\n",
    "print(\"RMSE:\", round(rmse, 2))"
   ]
  },
  {
   "cell_type": "code",
   "execution_count": null,
   "id": "23a07d54-35e7-4924-8cc9-00f7347335e0",
   "metadata": {},
   "outputs": [],
   "source": []
  }
 ],
 "metadata": {
  "kernelspec": {
   "display_name": "Python 3 (ipykernel)",
   "language": "python",
   "name": "python3"
  },
  "language_info": {
   "codemirror_mode": {
    "name": "ipython",
    "version": 3
   },
   "file_extension": ".py",
   "mimetype": "text/x-python",
   "name": "python",
   "nbconvert_exporter": "python",
   "pygments_lexer": "ipython3",
   "version": "3.8.10"
  }
 },
 "nbformat": 4,
 "nbformat_minor": 5
}
