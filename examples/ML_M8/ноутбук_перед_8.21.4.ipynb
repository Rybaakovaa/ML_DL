{
 "cells": [
  {
   "cell_type": "code",
   "execution_count": 1,
   "metadata": {},
   "outputs": [
    {
     "ename": "NameError",
     "evalue": "name 'pd' is not defined",
     "output_type": "error",
     "traceback": [
      "\u001b[1;31m---------------------------------------------------------------------------\u001b[0m",
      "\u001b[1;31mNameError\u001b[0m                                 Traceback (most recent call last)",
      "Cell \u001b[1;32mIn[1], line 1\u001b[0m\n\u001b[1;32m----> 1\u001b[0m trainSet \u001b[38;5;241m=\u001b[39m \u001b[43mpd\u001b[49m\u001b[38;5;241m.\u001b[39mDataFrame()\n\u001b[0;32m      2\u001b[0m testSet \u001b[38;5;241m=\u001b[39m pd\u001b[38;5;241m.\u001b[39mDataFrame()\n\u001b[0;32m      4\u001b[0m \u001b[38;5;66;03m## записываем фичи в дейтафрейм\u001b[39;00m\n",
      "\u001b[1;31mNameError\u001b[0m: name 'pd' is not defined"
     ]
    }
   ],
   "source": []
  },
  {
   "cell_type": "code",
   "execution_count": null,
   "metadata": {},
   "outputs": [],
   "source": [
    "from sklearn.metrics import confusion_matrix\n",
    "from sklearn.metrics import roc_curve, auc\n",
    "from math import isnan\n",
    "\n",
    "featureList = trainSet.drop('label', axis=1).columns\n",
    "\n",
    "## параметры классификатора\n",
    "params = {'n_estimators': 100, 'max_depth': 20, 'min_samples_split': 2, 'max_features' : 1.0, 'class_weight' : 'balanced',\n",
    "         'random_state': 42}\n",
    "\n",
    "## обучаем классификатор\n",
    "clf = RandomForestClassifier(**params).fit(trainSet[featureList], trainSet['label'])\n",
    "\n",
    "## делаем предсказание на тестовом наборе\n",
    "y_pred = clf.predict(testSet[featureList])\n",
    "y_pred_proba = clf.predict_proba(testSet[featureList])[:, 1] ## вероятности\n",
    "\n",
    "## визуализируем вероятности для предсказаний\n",
    "import matplotlib.pyplot as plt\n",
    "plt.hist(y_pred_proba)\n",
    "plt.ylabel('Распределение вероятностей (test-set)')\n",
    "plt.show()\n",
    "\n",
    "## создадим для удобства дейтафрейм с результатами\n",
    "res = testSet\n",
    "res['pred'] = y_pred \n",
    "res['pred_proba'] = y_pred_proba\n",
    "\n",
    "## получаем из классификатора важность фич и отображаем их\n",
    "ftmprt = pd.DataFrame()\n",
    "ftmprt['features'] = featureList\n",
    "ftmprt['importances'] = clf.feature_importances_\n",
    "ftmprt = ftmprt.sort_values('importances', ascending=False)\n",
    "print(ftmprt.head(20))\n",
    "print()\n",
    "proba = res.pred_proba\n",
    "\n",
    "# confusion matrix\n",
    "CM = confusion_matrix(res['label'], res['pred'])\n",
    "\n",
    "CM_DF = pd.DataFrame(data=CM, columns = ['Neg', 'Pos'])\n",
    "print(CM_DF)\n",
    "\n",
    "## считаем матрицу ошибок\n",
    "FPR, TPR, thresholds = roc_curve(res['label'], res['pred_proba'])\n",
    "roc_auc = auc(FPR, TPR)\n",
    "acc = res[res['pred'] == res['label']].shape[0] / res.shape[0]\n",
    "print(f\"\\nAUC = {roc_auc:.3f}  Точность = {acc:.3f}\\n\")\n",
    "\n",
    "# ROC curve\n",
    "plt.title('Receiver Operating Characteristic')\n",
    "plt.plot(FPR, TPR, 'b', label=f'AUC = {roc_auc:.2f}')\n",
    "plt.legend(loc='lower right')\n",
    "plt.plot([0, 1], [0, 1], 'r--')\n",
    "plt.xlim([0, 1])\n",
    "plt.ylim([0, 1])\n",
    "plt.ylabel('True Positive Rate')\n",
    "plt.xlabel('False Positive Rate')\n",
    "plt.show()"
   ]
  }
 ],
 "metadata": {
  "kernelspec": {
   "display_name": "Python 3 (ipykernel)",
   "language": "python",
   "name": "python3"
  },
  "language_info": {
   "codemirror_mode": {
    "name": "ipython",
    "version": 3
   },
   "file_extension": ".py",
   "mimetype": "text/x-python",
   "name": "python",
   "nbconvert_exporter": "python",
   "pygments_lexer": "ipython3",
   "version": "3.8.10"
  }
 },
 "nbformat": 4,
 "nbformat_minor": 4
}
