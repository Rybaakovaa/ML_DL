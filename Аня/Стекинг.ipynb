{
 "cells": [
  {
   "cell_type": "code",
   "execution_count": 1,
   "id": "ce2b82fa-b834-4723-ae69-05ad6d283e1c",
   "metadata": {},
   "outputs": [],
   "source": [
    "# работа с данными\n",
    "import pandas as pd\n",
    "import numpy as np\n",
    "import os\n",
    "import seaborn as sns\n",
    "import matplotlib.pyplot as plt\n",
    "\n",
    "# нормализация\n",
    "from sklearn.preprocessing import MinMaxScaler, StandardScaler, RobustScaler, PolynomialFeatures\n",
    "\n",
    "from scipy.stats import skew, kurtosis\n",
    "from scipy.stats import trim_mean, trimboth, tmean, tstd, ttest_1samp, gmean, hmean, mode\n",
    "from scipy.stats import percentileofscore, scoreatpercentile\n",
    "import statistics\n",
    "\n",
    "from collections import Counter"
   ]
  },
  {
   "cell_type": "code",
   "execution_count": 69,
   "id": "9cc32c32-457d-40fa-acd3-40fe8ef7996b",
   "metadata": {},
   "outputs": [],
   "source": [
    "import keras\n",
    "from keras.models import Sequential\n",
    "from keras.layers import Dense, Dropout\n",
    "import random\n",
    "\n",
    "from sklearn.ensemble import RandomForestClassifier\n",
    "from sklearn.metrics import precision_score, recall_score, accuracy_score\n",
    "from sklearn.linear_model import Lasso "
   ]
  },
  {
   "cell_type": "code",
   "execution_count": 68,
   "id": "d9efab5b-fd1b-4a9a-8f95-0136c44c2d4f",
   "metadata": {},
   "outputs": [],
   "source": [
    "from sklearn.ensemble import (AdaBoostClassifier, GradientBoostingClassifier,\n",
    "                              RandomForestClassifier, ExtraTreesClassifier)\n",
    "from sklearn.linear_model import LogisticRegression, LinearRegression\n",
    "from sklearn.tree import DecisionTreeClassifier\n",
    "from sklearn.base import clone\n",
    "from sklearn.neighbors import KNeighborsClassifier\n",
    "\n",
    "from sklearn.model_selection import train_test_split, KFold, StratifiedKFold, StratifiedShuffleSplit\n",
    "from sklearn.metrics import f1_score, mean_squared_error\n",
    "from sklearn.datasets import load_digits\n",
    "\n",
    "from tqdm import tqdm\n",
    "\n",
    "from sklearn.model_selection import train_test_split, RandomizedSearchCV\n",
    "from scipy.stats.distributions import randint"
   ]
  },
  {
   "cell_type": "markdown",
   "id": "3c06785f-58cd-4b3f-89db-356e0677f6c1",
   "metadata": {},
   "source": [
    "# ФУНКЦИИ"
   ]
  },
  {
   "cell_type": "code",
   "execution_count": 59,
   "id": "2fed7ca5-9dcc-4902-9f35-26681383b6c0",
   "metadata": {},
   "outputs": [],
   "source": [
    "def compute_meta_feature(clf, X_train, X_test, y_train, cv):\n",
    "    n_classes = len(np.unique(y_train))\n",
    "    X_meta_train = np.zeros((len(y_train), n_classes), dtype=np.float32)\n",
    "\n",
    "    splits = cv.split(X_train)\n",
    "    for train_fold_index, predict_fold_index in splits:\n",
    "        X_fold_train, X_fold_predict = X_train[train_fold_index], X_train[predict_fold_index]\n",
    "        y_fold_train = y_train[train_fold_index]\n",
    "        \n",
    "        folded_clf = clone(clf)\n",
    "        folded_clf.fit(X_fold_train, y_fold_train)\n",
    "        \n",
    "        X_meta_train[predict_fold_index] = folded_clf.predict_proba(X_fold_predict)\n",
    "    \n",
    "    meta_clf = clone(clf)\n",
    "    meta_clf.fit(X_train, y_train)\n",
    "    \n",
    "    X_meta_test = meta_clf.predict_proba(X_test)    \n",
    "    return X_meta_train, X_meta_test\n",
    "\n",
    "\n",
    "def generate_meta_features(classifiers, X_train, X_test, y_train, cv):\n",
    "    features = [\n",
    "        compute_meta_feature(clf, X_train, X_test, y_train, cv)\n",
    "        for clf in tqdm(classifiers)\n",
    "    ]    \n",
    "    stacked_features_train = np.hstack([\n",
    "        features_train for features_train, features_test in features\n",
    "    ])\n",
    "    stacked_features_test = np.hstack([\n",
    "        features_test for features_train, features_test in features\n",
    "    ])    \n",
    "    return stacked_features_train, stacked_features_test\n",
    "\n",
    "\n",
    "def compute_metric(clf, X_train=X_train, y_train=y_train, X_test=X_test):\n",
    "    clf.fit(X_train, y_train)\n",
    "    y_test_pred = clf.predict(X_test)\n",
    "    accuracy = accuracy_score(y_test, y_test_pred)\n",
    "    f1 =  f1_score(y_test, y_test_pred, average='macro')\n",
    "    return accuracy, f1"
   ]
  },
  {
   "cell_type": "markdown",
   "id": "8f6230a4-3f31-4645-b9a0-40c05077ba83",
   "metadata": {},
   "source": [
    "# Загрузка ds"
   ]
  },
  {
   "cell_type": "code",
   "execution_count": 103,
   "id": "56bae63e-4222-4ded-81bd-7253407c1fb9",
   "metadata": {},
   "outputs": [],
   "source": [
    "f_1 = ['id', 'distance', 'Кол-во пиков', 'Сред.зн.пика', 'Медиана', 'Смещение', \n",
    "       'Ниж.квартиль', 'Верх.квартиль', 'Дисперсия', 'Куртозис', 'X0', 'X1', 'X2']\n",
    "f_2 = ['Max', 'Mean', 'Std откл.', 'Асимметрия', 'Куртозис', 'id']\n",
    "\n",
    "feature_3 = ['Max', 'Куртозис', 'Гарм.сред.', 'Std откл.', 'Асимметрия', 'Ниж.квартиль', 'Верх.квартиль', 'id'] \n",
    "feature_4 = ['Max', 'Куртозис', 'Гарм.сред.', 'Std откл.', 'Асимметрия', 'X0', 'X1', 'X2', 'id'] \n",
    "feature_5 = ['Max', 'Куртозис', 'Гарм.сред.', 'Std откл.', 'Асимметрия', 'distance', 'id'] \n",
    "feature_6 = ['Max', 'Куртозис', 'Гарм.сред.', 'Std откл.', 'Асимметрия', 'Кол-во пиков', 'Сред.зн.пика', 'id'] \n",
    "feature_7 = ['Max', 'Куртозис', 'Гарм.сред.', 'X0', 'X1', 'X2', 'distance', 'Кол-во пиков', 'Сред.зн.пика', 'id'] \n",
    "feature_8 = ['Max', 'Куртозис', 'Гарм.сред.', 'Std откл.', 'Асимметрия', 'X0', 'X1', 'X2', 'distance', 'id'] "
   ]
  },
  {
   "cell_type": "code",
   "execution_count": 88,
   "id": "3c5a360c-521e-4a8c-be10-97d378b5e8c6",
   "metadata": {},
   "outputs": [
    {
     "data": {
      "text/html": [
       "<div>\n",
       "<style scoped>\n",
       "    .dataframe tbody tr th:only-of-type {\n",
       "        vertical-align: middle;\n",
       "    }\n",
       "\n",
       "    .dataframe tbody tr th {\n",
       "        vertical-align: top;\n",
       "    }\n",
       "\n",
       "    .dataframe thead th {\n",
       "        text-align: right;\n",
       "    }\n",
       "</style>\n",
       "<table border=\"1\" class=\"dataframe\">\n",
       "  <thead>\n",
       "    <tr style=\"text-align: right;\">\n",
       "      <th></th>\n",
       "      <th>id</th>\n",
       "      <th>distance</th>\n",
       "      <th>Кол-во пиков</th>\n",
       "      <th>Сред.зн.пика</th>\n",
       "      <th>Min</th>\n",
       "      <th>Max</th>\n",
       "      <th>Медиана</th>\n",
       "      <th>Смещение низ</th>\n",
       "      <th>Смещение верх</th>\n",
       "      <th>Смещение</th>\n",
       "      <th>...</th>\n",
       "      <th>Верх.квартиль</th>\n",
       "      <th>Дисперсия</th>\n",
       "      <th>Асимметрия</th>\n",
       "      <th>Куртозис</th>\n",
       "      <th>Std откл.</th>\n",
       "      <th>Коэф.вариации</th>\n",
       "      <th>Std ошибка</th>\n",
       "      <th>X0</th>\n",
       "      <th>X1</th>\n",
       "      <th>X2</th>\n",
       "    </tr>\n",
       "  </thead>\n",
       "  <tbody>\n",
       "    <tr>\n",
       "      <th>0</th>\n",
       "      <td>1</td>\n",
       "      <td>6656</td>\n",
       "      <td>216</td>\n",
       "      <td>530.898</td>\n",
       "      <td>3.836</td>\n",
       "      <td>7.216</td>\n",
       "      <td>5.428</td>\n",
       "      <td>1.592</td>\n",
       "      <td>1.788</td>\n",
       "      <td>47.102</td>\n",
       "      <td>...</td>\n",
       "      <td>6.157</td>\n",
       "      <td>0.660</td>\n",
       "      <td>0.033</td>\n",
       "      <td>-1.112</td>\n",
       "      <td>0.812</td>\n",
       "      <td>0.149</td>\n",
       "      <td>0.025</td>\n",
       "      <td>1</td>\n",
       "      <td>0</td>\n",
       "      <td>0</td>\n",
       "    </tr>\n",
       "    <tr>\n",
       "      <th>1</th>\n",
       "      <td>1</td>\n",
       "      <td>6625</td>\n",
       "      <td>216</td>\n",
       "      <td>532.741</td>\n",
       "      <td>3.226</td>\n",
       "      <td>6.143</td>\n",
       "      <td>4.719</td>\n",
       "      <td>1.493</td>\n",
       "      <td>1.424</td>\n",
       "      <td>51.180</td>\n",
       "      <td>...</td>\n",
       "      <td>5.323</td>\n",
       "      <td>0.555</td>\n",
       "      <td>0.024</td>\n",
       "      <td>-1.114</td>\n",
       "      <td>0.745</td>\n",
       "      <td>0.159</td>\n",
       "      <td>0.023</td>\n",
       "      <td>1</td>\n",
       "      <td>0</td>\n",
       "      <td>0</td>\n",
       "    </tr>\n",
       "  </tbody>\n",
       "</table>\n",
       "<p>2 rows × 26 columns</p>\n",
       "</div>"
      ],
      "text/plain": [
       "   id  distance  Кол-во пиков  Сред.зн.пика    Min    Max  Медиана  \\\n",
       "0   1      6656           216       530.898  3.836  7.216    5.428   \n",
       "1   1      6625           216       532.741  3.226  6.143    4.719   \n",
       "\n",
       "   Смещение низ  Смещение верх  Смещение  ...  Верх.квартиль  Дисперсия  \\\n",
       "0         1.592          1.788    47.102  ...          6.157      0.660   \n",
       "1         1.493          1.424    51.180  ...          5.323      0.555   \n",
       "\n",
       "   Асимметрия  Куртозис  Std откл.   Коэф.вариации  Std ошибка  X0  X1  X2  \n",
       "0       0.033    -1.112      0.812           0.149       0.025   1   0   0  \n",
       "1       0.024    -1.114      0.745           0.159       0.023   1   0   0  \n",
       "\n",
       "[2 rows x 26 columns]"
      ]
     },
     "execution_count": 88,
     "metadata": {},
     "output_type": "execute_result"
    }
   ],
   "source": [
    "file_name_dum_balance = './datasets/all_dataset_dum_balance.csv'\n",
    "data_balance = pd.read_csv(file_name_dum_balance, sep=\";\", encoding='utf8') #, low_memory=False)\n",
    "data_balance = data_balance.drop(['direction'], axis=1)\n",
    "data_balance.head(2)"
   ]
  },
  {
   "cell_type": "code",
   "execution_count": 23,
   "id": "4ca977c2-4694-4b4e-9aa8-a47ea8a585bf",
   "metadata": {},
   "outputs": [
    {
     "data": {
      "text/html": [
       "<div>\n",
       "<style scoped>\n",
       "    .dataframe tbody tr th:only-of-type {\n",
       "        vertical-align: middle;\n",
       "    }\n",
       "\n",
       "    .dataframe tbody tr th {\n",
       "        vertical-align: top;\n",
       "    }\n",
       "\n",
       "    .dataframe thead th {\n",
       "        text-align: right;\n",
       "    }\n",
       "</style>\n",
       "<table border=\"1\" class=\"dataframe\">\n",
       "  <thead>\n",
       "    <tr style=\"text-align: right;\">\n",
       "      <th></th>\n",
       "      <th>id</th>\n",
       "      <th>distance</th>\n",
       "      <th>len</th>\n",
       "      <th>Кол-во пиков</th>\n",
       "      <th>Сред.зн.пика</th>\n",
       "      <th>Min</th>\n",
       "      <th>Max</th>\n",
       "      <th>Медиана</th>\n",
       "      <th>Смещение низ</th>\n",
       "      <th>Смещение верх</th>\n",
       "      <th>...</th>\n",
       "      <th>Верх.квартиль</th>\n",
       "      <th>Дисперсия</th>\n",
       "      <th>Асимметрия</th>\n",
       "      <th>Куртозис</th>\n",
       "      <th>Std откл.</th>\n",
       "      <th>Коэф.вариации</th>\n",
       "      <th>Std ошибка</th>\n",
       "      <th>X0</th>\n",
       "      <th>X1</th>\n",
       "      <th>X2</th>\n",
       "    </tr>\n",
       "  </thead>\n",
       "  <tbody>\n",
       "    <tr>\n",
       "      <th>0</th>\n",
       "      <td>1</td>\n",
       "      <td>6656</td>\n",
       "      <td>1077</td>\n",
       "      <td>216</td>\n",
       "      <td>530.898</td>\n",
       "      <td>3.836</td>\n",
       "      <td>7.216</td>\n",
       "      <td>5.428</td>\n",
       "      <td>1.592</td>\n",
       "      <td>1.788</td>\n",
       "      <td>...</td>\n",
       "      <td>6.157</td>\n",
       "      <td>0.660</td>\n",
       "      <td>0.033</td>\n",
       "      <td>-1.112</td>\n",
       "      <td>0.812</td>\n",
       "      <td>0.149</td>\n",
       "      <td>0.025</td>\n",
       "      <td>1</td>\n",
       "      <td>0</td>\n",
       "      <td>0</td>\n",
       "    </tr>\n",
       "    <tr>\n",
       "      <th>1</th>\n",
       "      <td>1</td>\n",
       "      <td>6625</td>\n",
       "      <td>1077</td>\n",
       "      <td>216</td>\n",
       "      <td>532.741</td>\n",
       "      <td>3.226</td>\n",
       "      <td>6.143</td>\n",
       "      <td>4.719</td>\n",
       "      <td>1.493</td>\n",
       "      <td>1.424</td>\n",
       "      <td>...</td>\n",
       "      <td>5.323</td>\n",
       "      <td>0.555</td>\n",
       "      <td>0.024</td>\n",
       "      <td>-1.114</td>\n",
       "      <td>0.745</td>\n",
       "      <td>0.159</td>\n",
       "      <td>0.023</td>\n",
       "      <td>1</td>\n",
       "      <td>0</td>\n",
       "      <td>0</td>\n",
       "    </tr>\n",
       "  </tbody>\n",
       "</table>\n",
       "<p>2 rows × 27 columns</p>\n",
       "</div>"
      ],
      "text/plain": [
       "   id  distance   len  Кол-во пиков  Сред.зн.пика    Min    Max  Медиана  \\\n",
       "0   1      6656  1077           216       530.898  3.836  7.216    5.428   \n",
       "1   1      6625  1077           216       532.741  3.226  6.143    4.719   \n",
       "\n",
       "   Смещение низ  Смещение верх  ...  Верх.квартиль  Дисперсия  Асимметрия  \\\n",
       "0         1.592          1.788  ...          6.157      0.660       0.033   \n",
       "1         1.493          1.424  ...          5.323      0.555       0.024   \n",
       "\n",
       "   Куртозис  Std откл.   Коэф.вариации  Std ошибка  X0  X1  X2  \n",
       "0    -1.112      0.812           0.149       0.025   1   0   0  \n",
       "1    -1.114      0.745           0.159       0.023   1   0   0  \n",
       "\n",
       "[2 rows x 27 columns]"
      ]
     },
     "execution_count": 23,
     "metadata": {},
     "output_type": "execute_result"
    }
   ],
   "source": [
    "file_name_dum = './datasets/all_dataset_dum.csv'\n",
    "data = pd.read_csv(file_name_dum, sep=\";\", encoding='utf8') #, low_memory=False)\n",
    "data = data.drop(['direction'], axis=1)\n",
    "data.head(2)"
   ]
  },
  {
   "cell_type": "markdown",
   "id": "35cdcf58-169f-4179-bed8-99ccea4a22fa",
   "metadata": {},
   "source": [
    "# Стекинг"
   ]
  },
  {
   "cell_type": "markdown",
   "id": "1dbd3609-6b5f-4793-9d97-cd8ad8a1ff45",
   "metadata": {},
   "source": [
    "### data[f_2]"
   ]
  },
  {
   "cell_type": "code",
   "execution_count": 45,
   "id": "712138b5-6cef-43c4-bfcd-e7ae5d7929cc",
   "metadata": {},
   "outputs": [
    {
     "name": "stdout",
     "output_type": "stream",
     "text": [
      "(3972, 5)\n"
     ]
    }
   ],
   "source": [
    "df = data[f_2]\n",
    "y =  np.array(df['id'])  # Target variable\n",
    "X = np.array(df.drop('id', axis=1))  # Features\n",
    "\n",
    "X_train, X_test, y_train, y_test = train_test_split(X, y, test_size=0.2, shuffle=True, random_state=42)\n",
    "print(X_train.shape)"
   ]
  },
  {
   "cell_type": "code",
   "execution_count": 63,
   "id": "45164521-aff0-41bd-aacb-502ff24d2dfa",
   "metadata": {},
   "outputs": [
    {
     "name": "stderr",
     "output_type": "stream",
     "text": [
      "100%|████████████████████████████████████████████████████████████████████████████████████████████████████████████████████████████████████████████████████████████████████████████████████████████████| 3/3 [01:07<00:00, 22.34s/it]"
     ]
    },
    {
     "name": "stdout",
     "output_type": "stream",
     "text": [
      "acc = 70.39% f1 = 0.69%\n"
     ]
    },
    {
     "name": "stderr",
     "output_type": "stream",
     "text": [
      "\n"
     ]
    }
   ],
   "source": [
    "classifiers = [\n",
    "    # LogisticRegression(C=0.001, penalty='l1', solver='saga', multi_class='ovr', max_iter=2000, random_state=42),\n",
    "    LogisticRegression(max_iter=2000, random_state=42),\n",
    "    RandomForestClassifier(n_estimators=300, random_state=42),\n",
    "    GradientBoostingClassifier(n_estimators=200, random_state=42)\n",
    "]\n",
    "\n",
    "cv = KFold(n_splits=10, shuffle=True, random_state=42) # Кросс-валидация\n",
    "X_meta_train, X_meta_test = generate_meta_features(classifiers, X_train, X_test, y_train, cv) # Генерация мета-признаков\n",
    "\n",
    "# Создание мета-алгоритма и оценка его качества\n",
    "meta_clf = LogisticRegression(multi_class='auto', solver='lbfgs', random_state=42)\n",
    "meta_clf.fit(X_meta_train, y_train)\n",
    "acc, f1 = compute_metric(meta_clf, X_meta_train, y_train, X_meta_test)\n",
    "print(\"acc = %.2f%%\" % (acc*100), 'f1 = %.2f%%' % f1)"
   ]
  },
  {
   "cell_type": "code",
   "execution_count": 64,
   "id": "89fc4f8e-fd82-41ad-9933-5d4a94d6e782",
   "metadata": {},
   "outputs": [
    {
     "name": "stderr",
     "output_type": "stream",
     "text": [
      "100%|████████████████████████████████████████████████████████████████████████████████████████████████████████████████████████████████████████████████████████████████████████████████████████████████| 2/2 [00:15<00:00,  7.70s/it]"
     ]
    },
    {
     "name": "stdout",
     "output_type": "stream",
     "text": [
      "acc = 71.00% f1 = 0.70%\n"
     ]
    },
    {
     "name": "stderr",
     "output_type": "stream",
     "text": [
      "\n"
     ]
    }
   ],
   "source": [
    "classifiers = [\n",
    "    KNeighborsClassifier(),  # Метод ближайших соседей со стандартными параметрами\n",
    "    ExtraTreesClassifier(n_estimators=300, random_state=42)  # Случайный лес из 300 экстремальных деревьев\n",
    "]\n",
    "\n",
    "cv = KFold(n_splits=10, shuffle=True, random_state=42) # Кросс-валидация\n",
    "X_meta_train, X_meta_test = generate_meta_features(classifiers, X_train, X_test, y_train, cv) # Генерация мета-признаков\n",
    "\n",
    "meta_clf = LogisticRegression(multi_class='auto', solver='lbfgs', random_state=42)\n",
    "meta_clf.fit(X_meta_train, y_train)\n",
    "acc, f1 = compute_metric(meta_clf, X_meta_train, y_train, X_meta_test)\n",
    "print(\"acc = %.2f%%\" % (acc*100), 'f1 = %.2f%%' % f1)"
   ]
  },
  {
   "cell_type": "code",
   "execution_count": 66,
   "id": "09d5ca01-3a7a-4d49-a041-203ea0dd82e3",
   "metadata": {},
   "outputs": [
    {
     "name": "stderr",
     "output_type": "stream",
     "text": [
      "100%|████████████████████████████████████████████████████████████████████████████████████████████████████████████████████████████████████████████████████████████████████████████████████████████████| 4/4 [00:24<00:00,  6.11s/it]"
     ]
    },
    {
     "name": "stdout",
     "output_type": "stream",
     "text": [
      "acc = 70.19% f1 = 0.69%\n"
     ]
    },
    {
     "name": "stderr",
     "output_type": "stream",
     "text": [
      "\n"
     ]
    }
   ],
   "source": [
    "classifiers = [\n",
    "    LogisticRegression(max_iter=5000),\n",
    "    KNeighborsClassifier(),\n",
    "    RandomForestClassifier(n_estimators=300, random_state=42),\n",
    "    AdaBoostClassifier()\n",
    "]\n",
    "\n",
    "cv = KFold(n_splits=5, shuffle=True, random_state=42)\n",
    "X_meta_train, X_meta_test = generate_meta_features(classifiers, X_train, X_test, y_train, cv)\n",
    "\n",
    "meta_clf = LogisticRegression(multi_class='auto', solver='lbfgs', random_state=42)\n",
    "acc, f1 = compute_metric(meta_clf, X_meta_train, y_train, X_meta_test)\n",
    "print(\"acc = %.2f%%\" % (acc*100), 'f1 = %.2f%%' % f1)"
   ]
  },
  {
   "cell_type": "code",
   "execution_count": 76,
   "id": "31e23680-b063-4e86-bad7-15d88e66dbcb",
   "metadata": {},
   "outputs": [
    {
     "name": "stderr",
     "output_type": "stream",
     "text": [
      "100%|████████████████████████████████████████████████████████████████████████████████████████████████████████████████████████████████████████████████████████████████████████████████████████████████| 2/2 [00:24<00:00, 12.43s/it]\n"
     ]
    },
    {
     "name": "stdout",
     "output_type": "stream",
     "text": [
      "acc = 66.57% f1 = 0.66%\n"
     ]
    }
   ],
   "source": [
    "classifiers = [\n",
    "    RandomForestClassifier(n_estimators=300, random_state=42),\n",
    "    ExtraTreesClassifier(n_estimators=300, random_state=42)\n",
    "]\n",
    "\n",
    "cv = StratifiedKFold(n_splits=5, shuffle=True, random_state=42)\n",
    "features = []\n",
    "\n",
    "for clf in tqdm(classifiers):\n",
    "    X_meta_train = np.zeros((len(X_train), len(np.unique(y_train))), dtype=np.float32)\n",
    "    X_meta_test = np.zeros((len(X_test), len(np.unique(y_train))), dtype=np.float32)\n",
    "    \n",
    "    for train_fold_index, predict_fold_index in cv.split(X_train, y_train):\n",
    "        X_fold_train, X_fold_predict = X_train[train_fold_index], X_train[predict_fold_index]\n",
    "        y_fold_train = y_train[train_fold_index]\n",
    "\n",
    "        folded_clf = clf.fit(X_fold_train, y_fold_train)\n",
    "\n",
    "        X_meta_train[predict_fold_index] = folded_clf.predict_proba(X_fold_predict)\n",
    "        X_meta_test += folded_clf.predict_proba(X_test)\n",
    "    \n",
    "    X_meta_test /= 5  # Усреднение по фолдам\n",
    "    features.append((X_meta_train, X_meta_test))\n",
    "\n",
    "# Создание мета-алгоритма и оценка его качества\n",
    "stacked_features_train = np.hstack([f[0] for f in features])\n",
    "stacked_features_test = np.hstack([f[1] for f in features])\n",
    "\n",
    "meta_clf = RandomForestClassifier(random_state=42)\n",
    "meta_clf.fit(stacked_features_train, y_train)\n",
    "\n",
    "y_pred_meta = meta_clf.predict(stacked_features_test)\n",
    "acc = accuracy_score(y_test, y_pred_meta)\n",
    "f1 =  f1_score(y_test, y_pred_meta, average='macro')\n",
    "print(\"acc = %.2f%%\" % (acc*100), 'f1 = %.2f%%' % f1)"
   ]
  },
  {
   "cell_type": "code",
   "execution_count": 106,
   "id": "e26f4502-d744-414c-bc5a-68858a368fa9",
   "metadata": {},
   "outputs": [
    {
     "name": "stdout",
     "output_type": "stream",
     "text": [
      "(3972, 6)\n"
     ]
    },
    {
     "name": "stderr",
     "output_type": "stream",
     "text": [
      "\n",
      "\n",
      "  0%|                                                                                                                                                                                                        | 0/2 [00:00<?, ?it/s]\u001b[A\u001b[A\n",
      "\n",
      "100%|████████████████████████████████████████████████████████████████████████████████████████████████████████████████████████████████████████████████████████████████████████████████████████████████| 2/2 [00:15<00:00,  7.56s/it]\u001b[A\u001b[A"
     ]
    },
    {
     "name": "stdout",
     "output_type": "stream",
     "text": [
      "acc = 74.52% f1 = 0.74%\n"
     ]
    },
    {
     "name": "stderr",
     "output_type": "stream",
     "text": [
      "\n"
     ]
    }
   ],
   "source": [
    "df = data[feature_5]\n",
    "y =  np.array(df['id'])  # Target variable\n",
    "X = np.array(df.drop('id', axis=1))  # Features\n",
    "\n",
    "X_train, X_test, y_train, y_test = train_test_split(X, y, test_size=0.2, shuffle=True, random_state=42)\n",
    "print(X_train.shape)\n",
    "\n",
    "classifiers = [\n",
    "    KNeighborsClassifier(),  # Метод ближайших соседей со стандартными параметрами\n",
    "    ExtraTreesClassifier(n_estimators=300, random_state=42)  # Случайный лес из 300 экстремальных деревьев\n",
    "]\n",
    "\n",
    "cv = KFold(n_splits=10, shuffle=True, random_state=42) # Кросс-валидация\n",
    "X_meta_train, X_meta_test = generate_meta_features(classifiers, X_train, X_test, y_train, cv) # Генерация мета-признаков\n",
    "\n",
    "meta_clf = LogisticRegression(multi_class='auto', solver='lbfgs', random_state=42)\n",
    "meta_clf.fit(X_meta_train, y_train)\n",
    "acc, f1 = compute_metric(meta_clf, X_meta_train, y_train, X_meta_test)\n",
    "print(\"acc = %.2f%%\" % (acc*100), 'f1 = %.2f%%' % f1)"
   ]
  },
  {
   "cell_type": "code",
   "execution_count": 112,
   "id": "cdfade1a-f403-44b3-9af5-3976f30d83f9",
   "metadata": {},
   "outputs": [
    {
     "name": "stdout",
     "output_type": "stream",
     "text": [
      "(3972, 12)\n"
     ]
    },
    {
     "name": "stderr",
     "output_type": "stream",
     "text": [
      "\n",
      "\n",
      "  0%|                                                                                                                                                                                                        | 0/2 [00:00<?, ?it/s]\u001b[A\u001b[A\n",
      "\n",
      "100%|████████████████████████████████████████████████████████████████████████████████████████████████████████████████████████████████████████████████████████████████████████████████████████████████| 2/2 [00:16<00:00,  8.24s/it]\u001b[A\u001b[A"
     ]
    },
    {
     "name": "stdout",
     "output_type": "stream",
     "text": [
      "acc = 75.03% f1 = 0.75%\n"
     ]
    },
    {
     "name": "stderr",
     "output_type": "stream",
     "text": [
      "\n"
     ]
    }
   ],
   "source": [
    "df = data[f_1]\n",
    "y =  np.array(df['id'])  # Target variable\n",
    "X = np.array(df.drop('id', axis=1))  # Features\n",
    "\n",
    "X_train, X_test, y_train, y_test = train_test_split(X, y, test_size=0.2, shuffle=True, random_state=42)\n",
    "print(X_train.shape)\n",
    "\n",
    "classifiers = [\n",
    "    KNeighborsClassifier(),  # Метод ближайших соседей со стандартными параметрами\n",
    "    ExtraTreesClassifier(n_estimators=300, random_state=42)  # Случайный лес из 300 экстремальных деревьев\n",
    "]\n",
    "\n",
    "cv = KFold(n_splits=10, shuffle=True, random_state=42) # Кросс-валидация\n",
    "X_meta_train, X_meta_test = generate_meta_features(classifiers, X_train, X_test, y_train, cv) # Генерация мета-признаков\n",
    "\n",
    "meta_clf = LogisticRegression(multi_class='auto', solver='lbfgs', random_state=42)\n",
    "meta_clf.fit(X_meta_train, y_train)\n",
    "acc, f1 = compute_metric(meta_clf, X_meta_train, y_train, X_meta_test)\n",
    "print(\"acc = %.2f%%\" % (acc*100), 'f1 = %.2f%%' % f1)"
   ]
  },
  {
   "cell_type": "markdown",
   "id": "8bd33745-59ba-4063-905a-4d214dbf825e",
   "metadata": {},
   "source": [
    "### data_balance"
   ]
  },
  {
   "cell_type": "code",
   "execution_count": 91,
   "id": "ebfa3d5e-cb2c-4ba7-a1bb-b0949b1549db",
   "metadata": {},
   "outputs": [
    {
     "name": "stderr",
     "output_type": "stream",
     "text": [
      "\n",
      "\n",
      "  0%|                                                                                                                                                                                                        | 0/2 [00:00<?, ?it/s]\u001b[A\u001b[A\n",
      "\n",
      "100%|████████████████████████████████████████████████████████████████████████████████████████████████████████████████████████████████████████████████████████████████████████████████████████████████| 2/2 [00:13<00:00,  6.86s/it]\u001b[A\u001b[A"
     ]
    },
    {
     "name": "stdout",
     "output_type": "stream",
     "text": [
      "acc = 68.48% f1 = 0.68%\n"
     ]
    },
    {
     "name": "stderr",
     "output_type": "stream",
     "text": [
      "\n"
     ]
    }
   ],
   "source": [
    "df = data_balance[f_2]\n",
    "y =  np.array(df['id'])  # Target variable\n",
    "X = np.array(df.drop('id', axis=1))  # Features\n",
    "\n",
    "X_train, X_test, y_train, y_test = train_test_split(X, y, test_size=0.2, shuffle=True, random_state=42)\n",
    "print(X_train.shape)\n",
    "\n",
    "classifiers = [\n",
    "    KNeighborsClassifier(),  # Метод ближайших соседей со стандартными параметрами\n",
    "    ExtraTreesClassifier(n_estimators=300, random_state=42)  # Случайный лес из 300 экстремальных деревьев\n",
    "]\n",
    "\n",
    "cv = KFold(n_splits=10, shuffle=True, random_state=42) # Кросс-валидация\n",
    "X_meta_train, X_meta_test = generate_meta_features(classifiers, X_train, X_test, y_train, cv) # Генерация мета-признаков\n",
    "\n",
    "meta_clf = LogisticRegression(multi_class='auto', solver='lbfgs', random_state=42)\n",
    "meta_clf.fit(X_meta_train, y_train)\n",
    "acc, f1 = compute_metric(meta_clf, X_meta_train, y_train, X_meta_test)\n",
    "print(\"acc = %.2f%%\" % (acc*100), 'f1 = %.2f%%' % f1)"
   ]
  },
  {
   "cell_type": "code",
   "execution_count": 97,
   "id": "2ffb9fb3-12eb-49f9-ad23-75d171dcdc36",
   "metadata": {},
   "outputs": [
    {
     "name": "stdout",
     "output_type": "stream",
     "text": [
      "(3385, 12)\n"
     ]
    },
    {
     "name": "stderr",
     "output_type": "stream",
     "text": [
      "\n",
      "\n",
      "  0%|                                                                                                                                                                                                        | 0/2 [00:00<?, ?it/s]\u001b[A\u001b[A\n",
      "\n",
      "100%|████████████████████████████████████████████████████████████████████████████████████████████████████████████████████████████████████████████████████████████████████████████████████████████████| 2/2 [00:14<00:00,  7.17s/it]\u001b[A\u001b[A"
     ]
    },
    {
     "name": "stdout",
     "output_type": "stream",
     "text": [
      "acc = 78.39% f1 = 0.78%\n"
     ]
    },
    {
     "name": "stderr",
     "output_type": "stream",
     "text": [
      "\n"
     ]
    }
   ],
   "source": [
    "df = data_balance[f_1]\n",
    "y =  np.array(df['id'])  # Target variable\n",
    "X = np.array(df.drop('id', axis=1))  # Features\n",
    "\n",
    "X_train, X_test, y_train, y_test = train_test_split(X, y, test_size=0.2, shuffle=True, random_state=42)\n",
    "print(X_train.shape)\n",
    "\n",
    "classifiers = [\n",
    "    KNeighborsClassifier(),  # Метод ближайших соседей со стандартными параметрами\n",
    "    ExtraTreesClassifier(n_estimators=300, random_state=42)  # Случайный лес из 300 экстремальных деревьев\n",
    "]\n",
    "\n",
    "cv = KFold(n_splits=10, shuffle=True, random_state=42) # Кросс-валидация\n",
    "X_meta_train, X_meta_test = generate_meta_features(classifiers, X_train, X_test, y_train, cv) # Генерация мета-признаков\n",
    "\n",
    "meta_clf = LogisticRegression(multi_class='auto', solver='lbfgs', random_state=42)\n",
    "meta_clf.fit(X_meta_train, y_train)\n",
    "acc, f1 = compute_metric(meta_clf, X_meta_train, y_train, X_meta_test)\n",
    "print(\"acc = %.2f%%\" % (acc*100), 'f1 = %.2f%%' % f1)"
   ]
  },
  {
   "cell_type": "code",
   "execution_count": 110,
   "id": "cda76bde-1c14-4c15-a1d3-492db97e881f",
   "metadata": {},
   "outputs": [
    {
     "name": "stdout",
     "output_type": "stream",
     "text": [
      "(3385, 12)\n"
     ]
    },
    {
     "name": "stderr",
     "output_type": "stream",
     "text": [
      "\n",
      "\n",
      "  0%|                                                                                                                                                                                                        | 0/2 [00:00<?, ?it/s]\u001b[A\u001b[A\n",
      "\n",
      " 50%|████████████████████████████████████████████████████████████████████████████████████████████████                                                                                                | 1/2 [00:02<00:02,  2.26s/it]\u001b[A\u001b[A\n",
      "\n",
      "100%|████████████████████████████████████████████████████████████████████████████████████████████████████████████████████████████████████████████████████████████████████████████████████████████████| 2/2 [00:46<00:00, 23.10s/it]\u001b[A\u001b[A"
     ]
    },
    {
     "name": "stdout",
     "output_type": "stream",
     "text": [
      "acc = 76.27% f1 = 0.76%\n"
     ]
    },
    {
     "name": "stderr",
     "output_type": "stream",
     "text": [
      "\n"
     ]
    }
   ],
   "source": [
    "df = data_balance[f_1]\n",
    "y =  np.array(df['id'])  # Target variable\n",
    "X = np.array(df.drop('id', axis=1))  # Features\n",
    "\n",
    "X_train, X_test, y_train, y_test = train_test_split(X, y, test_size=0.2, shuffle=True, random_state=42)\n",
    "print(X_train.shape)\n",
    "\n",
    "classifiers = [\n",
    "    LogisticRegression(max_iter=2000, random_state=42),\n",
    "    RandomForestClassifier(n_estimators=300, random_state=42),\n",
    "    # GradientBoostingClassifier(n_estimators=200, random_state=42),\n",
    "    # KNeighborsClassifier(),  # Метод ближайших соседей со стандартными параметрами\n",
    "    # ExtraTreesClassifier(n_estimators=300, random_state=42)  # Случайный лес из 300 экстремальных деревьев\n",
    "]\n",
    "\n",
    "cv = KFold(n_splits=10, shuffle=True, random_state=42) # Кросс-валидация\n",
    "X_meta_train, X_meta_test = generate_meta_features(classifiers, X_train, X_test, y_train, cv) # Генерация мета-признаков\n",
    "\n",
    "meta_clf = LogisticRegression(multi_class='auto', solver='lbfgs', random_state=42)\n",
    "meta_clf.fit(X_meta_train, y_train)\n",
    "acc, f1 = compute_metric(meta_clf, X_meta_train, y_train, X_meta_test)\n",
    "print(\"acc = %.2f%%\" % (acc*100), 'f1 = %.2f%%' % f1)"
   ]
  },
  {
   "cell_type": "code",
   "execution_count": 111,
   "id": "7c3e4292-2f81-4d77-bb96-a35ddc7755d8",
   "metadata": {},
   "outputs": [
    {
     "name": "stdout",
     "output_type": "stream",
     "text": [
      "(3385, 6)\n"
     ]
    },
    {
     "name": "stderr",
     "output_type": "stream",
     "text": [
      "\n",
      "\n",
      "  0%|                                                                                                                                                                                                        | 0/2 [00:00<?, ?it/s]\u001b[A\u001b[A\n",
      "\n",
      "100%|████████████████████████████████████████████████████████████████████████████████████████████████████████████████████████████████████████████████████████████████████████████████████████████████| 2/2 [00:13<00:00,  6.63s/it]\u001b[A\u001b[A"
     ]
    },
    {
     "name": "stdout",
     "output_type": "stream",
     "text": [
      "acc = 75.32% f1 = 0.75%\n"
     ]
    },
    {
     "name": "stderr",
     "output_type": "stream",
     "text": [
      "\n"
     ]
    }
   ],
   "source": [
    "df = data_balance[feature_5]\n",
    "y =  np.array(df['id'])  # Target variable\n",
    "X = np.array(df.drop('id', axis=1))  # Features\n",
    "\n",
    "X_train, X_test, y_train, y_test = train_test_split(X, y, test_size=0.2, shuffle=True, random_state=42)\n",
    "print(X_train.shape)\n",
    "\n",
    "classifiers = [\n",
    "    KNeighborsClassifier(),  # Метод ближайших соседей со стандартными параметрами\n",
    "    ExtraTreesClassifier(n_estimators=300, random_state=42)  # Случайный лес из 300 экстремальных деревьев\n",
    "]\n",
    "\n",
    "cv = KFold(n_splits=10, shuffle=True, random_state=42) # Кросс-валидация\n",
    "X_meta_train, X_meta_test = generate_meta_features(classifiers, X_train, X_test, y_train, cv) # Генерация мета-признаков\n",
    "\n",
    "meta_clf = LogisticRegression(random_state=42)\n",
    "meta_clf.fit(X_meta_train, y_train)\n",
    "acc, f1 = compute_metric(meta_clf, X_meta_train, y_train, X_meta_test)\n",
    "print(\"acc = %.2f%%\" % (acc*100), 'f1 = %.2f%%' % f1)"
   ]
  },
  {
   "cell_type": "code",
   "execution_count": 104,
   "id": "82710f5c-6fdf-4fa1-9dfb-f5c1c4adbddd",
   "metadata": {},
   "outputs": [
    {
     "name": "stdout",
     "output_type": "stream",
     "text": [
      "(3385, 9)\n"
     ]
    },
    {
     "name": "stderr",
     "output_type": "stream",
     "text": [
      "\n",
      "\n",
      "  0%|                                                                                                                                                                                                        | 0/2 [00:00<?, ?it/s]\u001b[A\u001b[A\n",
      "\n",
      "100%|████████████████████████████████████████████████████████████████████████████████████████████████████████████████████████████████████████████████████████████████████████████████████████████████| 2/2 [00:13<00:00,  6.76s/it]\u001b[A\u001b[A"
     ]
    },
    {
     "name": "stdout",
     "output_type": "stream",
     "text": [
      "acc = 76.51% f1 = 0.76%\n"
     ]
    },
    {
     "name": "stderr",
     "output_type": "stream",
     "text": [
      "\n"
     ]
    }
   ],
   "source": [
    "df = data_balance[feature_8]\n",
    "y =  np.array(df['id'])  # Target variable\n",
    "X = np.array(df.drop('id', axis=1))  # Features\n",
    "\n",
    "X_train, X_test, y_train, y_test = train_test_split(X, y, test_size=0.2, shuffle=True, random_state=42)\n",
    "print(X_train.shape)\n",
    "\n",
    "classifiers = [\n",
    "    KNeighborsClassifier(),  # Метод ближайших соседей со стандартными параметрами\n",
    "    ExtraTreesClassifier(n_estimators=300, random_state=42)  # Случайный лес из 300 экстремальных деревьев\n",
    "]\n",
    "\n",
    "cv = KFold(n_splits=10, shuffle=True, random_state=42) # Кросс-валидация\n",
    "X_meta_train, X_meta_test = generate_meta_features(classifiers, X_train, X_test, y_train, cv) # Генерация мета-признаков\n",
    "\n",
    "meta_clf = LogisticRegression(multi_class='auto', solver='lbfgs', random_state=42)\n",
    "meta_clf.fit(X_meta_train, y_train)\n",
    "acc, f1 = compute_metric(meta_clf, X_meta_train, y_train, X_meta_test)\n",
    "print(\"acc = %.2f%%\" % (acc*100), 'f1 = %.2f%%' % f1)"
   ]
  }
 ],
 "metadata": {
  "kernelspec": {
   "display_name": "Python 3 (ipykernel)",
   "language": "python",
   "name": "python3"
  },
  "language_info": {
   "codemirror_mode": {
    "name": "ipython",
    "version": 3
   },
   "file_extension": ".py",
   "mimetype": "text/x-python",
   "name": "python",
   "nbconvert_exporter": "python",
   "pygments_lexer": "ipython3",
   "version": "3.10.0"
  }
 },
 "nbformat": 4,
 "nbformat_minor": 5
}
