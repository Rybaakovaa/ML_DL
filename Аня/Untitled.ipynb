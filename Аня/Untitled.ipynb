{
 "cells": [
  {
   "cell_type": "code",
   "execution_count": 29,
   "id": "c069162f-0c94-4db2-9296-b3bb8f82d845",
   "metadata": {},
   "outputs": [],
   "source": [
    "import numpy as np\n",
    "import pandas as pd\n",
    "import matplotlib.pyplot as plt\n",
    "from sklearn.datasets import load_diabetes\n",
    "from sklearn.preprocessing import LabelEncoder\n",
    "from sklearn.metrics import accuracy_score, f1_score, mean_absolute_percentage_error\n",
    "from sklearn.model_selection import train_test_split, cross_val_predict\n",
    "from sklearn.svm import SVC\n",
    "from sklearn.linear_model import RidgeCV, LogisticRegression\n",
    "from sklearn.ensemble import StackingClassifier, StackingRegressor\n",
    "from sklearn.ensemble import RandomForestClassifier, RandomForestRegressor\n",
    "from sklearn.ensemble import GradientBoostingClassifier, GradientBoostingRegressor\n",
    "from joblib import Parallel, delayed\n",
    "# from mlxtend.plotting import plot_decision_regions\n",
    "\n",
    "from sklearn.ensemble import (AdaBoostClassifier, GradientBoostingClassifier,\n",
    "                              RandomForestClassifier, ExtraTreesClassifier)\n",
    "from sklearn.linear_model import LogisticRegression, LinearRegression\n",
    "from sklearn.tree import DecisionTreeClassifier\n",
    "from sklearn.base import clone\n",
    "from sklearn.neighbors import KNeighborsClassifier\n",
    "\n",
    "from sklearn.preprocessing import StandardScaler, MinMaxScaler"
   ]
  },
  {
   "cell_type": "code",
   "execution_count": 78,
   "id": "923dea58-e51b-44de-8fd7-e8f6e7544226",
   "metadata": {},
   "outputs": [],
   "source": [
    "from xgboost import XGBClassifier\n",
    "from sklearn.neural_network import MLPClassifier"
   ]
  },
  {
   "cell_type": "markdown",
   "id": "c1cb8ac0-7657-42ab-9f54-e1b15e368ff3",
   "metadata": {
    "jp-MarkdownHeadingCollapsed": true
   },
   "source": [
    "# Функции"
   ]
  },
  {
   "cell_type": "code",
   "execution_count": 30,
   "id": "27f4e749-9203-4445-bde4-5661d7505acc",
   "metadata": {},
   "outputs": [],
   "source": [
    "class Stacking:\n",
    "    def __init__(self, estimators, final_estimator, blending=False, cv=5, n_jobs=-1):\n",
    "        self.estimators = estimators            # список базовых моделей (эстиматоров),\n",
    "        self.final_estimator = final_estimator  # финальная модель, для агрегации предсказаний базовых моделей.\n",
    "        self.blending = blending                # стекинг (False) или блендинг (True)\n",
    "        self.cv = cv                            # кол-во разбиений для кросс-валидации при обучении базовых моделей\n",
    "        self.n_jobs = n_jobs                    # кол-во параллельных задач, которые будут выполняться во время обучения и предсказания \n",
    "                                                # (по умолчанию -1, что означает использование всех доступных ядер процессора)\n",
    "\n",
    "    def _X_pred(self, estimator, data):\n",
    "        if self.blending:\n",
    "            X_train_v, y_train_v, X_val = data\n",
    "            return estimator.fit(X_train_v, y_train_v).predict(X_val)\n",
    "        else:\n",
    "            X_train, y_train = data\n",
    "            return cross_val_predict(estimator, X_train, y_train, cv=self.cv)\n",
    "\n",
    "    def _X_test_pred(self, estimator, data):\n",
    "        X_train, y_train, X_test = data\n",
    "        return estimator.fit(X_train, y_train).predict(X_test)\n",
    "\n",
    "    def _meta_data(self, X_train, y_train, X_test):\n",
    "        if self.blending:\n",
    "            #used hold-out cross-validation\n",
    "            X_train_v, X_val, y_train_v, y_val = train_test_split(X_train, y_train, random_state=0)\n",
    "            train_data = [X_train_v, y_train_v, X_val]\n",
    "            test_data = [X_train_v, y_train_v, X_test]\n",
    "            meta_y_train = y_val\n",
    "        else:\n",
    "            train_data = [X_train, y_train]\n",
    "            test_data = [X_train, y_train, X_test]\n",
    "            meta_y_train = y_train\n",
    "\n",
    "        cv_X_train_preds = (delayed(self._X_pred)(est, train_data) for est in self.estimators)\n",
    "        X_test_preds = (delayed(self._X_test_pred)(est, test_data) for est in self.estimators)\n",
    "\n",
    "        meta_X_train = pd.DataFrame(Parallel(n_jobs=self.n_jobs)(cv_X_train_preds))\n",
    "        meta_X_test = pd.DataFrame(Parallel(n_jobs=self.n_jobs)(X_test_preds))\n",
    "\n",
    "        return meta_X_train.T, meta_y_train, meta_X_test.T\n",
    "\n",
    "    def fit_predict(self, X_train, y_train, X_test):\n",
    "        # meta learner or blender\n",
    "        meta_X_train, meta_y_train, meta_X_test = self._meta_data(X_train, y_train, X_test)\n",
    "\n",
    "        return self.final_estimator.fit(meta_X_train, meta_y_train).predict(meta_X_test)"
   ]
  },
  {
   "cell_type": "code",
   "execution_count": 3,
   "id": "54e0a652-c822-4e82-8d23-493195d70484",
   "metadata": {},
   "outputs": [],
   "source": [
    "def decision_boundary_plot(X, y, X_train, y_train, clf, feature_indexes, title=None):\n",
    "    feature1_name, feature2_name = X.columns[feature_indexes]\n",
    "    X_feature_columns = X.values[:, feature_indexes]\n",
    "    X_train_feature_columns = X_train.values[:, feature_indexes]\n",
    "    clf.fit(X_train_feature_columns, y_train.values)\n",
    "\n",
    "    plot_decision_regions(X=X_feature_columns, y=y.values, clf=clf)\n",
    "    plt.xlabel(feature1_name)\n",
    "    plt.ylabel(feature2_name)\n",
    "    plt.title(title)"
   ]
  },
  {
   "cell_type": "code",
   "execution_count": 44,
   "id": "d46c0c5d-6960-4296-81ad-008740f118ab",
   "metadata": {},
   "outputs": [],
   "source": [
    "def start(X_train, X_test, y_train, y_test, estimators_1, model_LogisticRegression_1):\n",
    "    stacking_clf = Stacking(estimators=estimators_1, final_estimator=model_LogisticRegression_1)\n",
    "    stacking_pred_res = stacking_clf.fit_predict(X_train, y_train, X_test)\n",
    "    stacking_acc = accuracy_score(stacking_pred_res, y_test)\n",
    "    stacking_f1 =f1_score(stacking_pred_res, y_test)\n",
    "    print(f'stacking   acc: {(stacking_acc * 100):.2f}   f1: {stacking_f1:.2f}')\n",
    "    \n",
    "    blending_clf = Stacking(estimators=estimators_1, final_estimator=model_LogisticRegression_1, blending=True)\n",
    "    blending_pred_res = blending_clf.fit_predict(X_train, y_train, X_test)\n",
    "    blending_acc = accuracy_score(blending_pred_res, y_test)\n",
    "    blending_f1 = f1_score(blending_pred_res, y_test)\n",
    "    print(f'blending   acc: {(blending_acc * 100):.2f}   f1: {blending_f1:.2f}')"
   ]
  },
  {
   "cell_type": "markdown",
   "id": "0efcdccc-a694-4a09-ad85-d9cddb6e79d1",
   "metadata": {
    "jp-MarkdownHeadingCollapsed": true
   },
   "source": [
    "# Загрузка данных"
   ]
  },
  {
   "cell_type": "code",
   "execution_count": 4,
   "id": "5996db0c-83d9-4c81-ba30-9f9f673a54ff",
   "metadata": {},
   "outputs": [
    {
     "data": {
      "text/html": [
       "<div>\n",
       "<style scoped>\n",
       "    .dataframe tbody tr th:only-of-type {\n",
       "        vertical-align: middle;\n",
       "    }\n",
       "\n",
       "    .dataframe tbody tr th {\n",
       "        vertical-align: top;\n",
       "    }\n",
       "\n",
       "    .dataframe thead th {\n",
       "        text-align: right;\n",
       "    }\n",
       "</style>\n",
       "<table border=\"1\" class=\"dataframe\">\n",
       "  <thead>\n",
       "    <tr style=\"text-align: right;\">\n",
       "      <th></th>\n",
       "      <th>id</th>\n",
       "      <th>distance</th>\n",
       "      <th>len</th>\n",
       "      <th>Кол-во пиков</th>\n",
       "      <th>Сред.зн.пика</th>\n",
       "      <th>Min</th>\n",
       "      <th>Max</th>\n",
       "      <th>Медиана</th>\n",
       "      <th>Смещение низ</th>\n",
       "      <th>Смещение верх</th>\n",
       "      <th>...</th>\n",
       "      <th>Верх.квартиль</th>\n",
       "      <th>Дисперсия</th>\n",
       "      <th>Асимметрия</th>\n",
       "      <th>Куртозис</th>\n",
       "      <th>Std откл.</th>\n",
       "      <th>Коэф.вариации</th>\n",
       "      <th>Std ошибка</th>\n",
       "      <th>X0</th>\n",
       "      <th>X1</th>\n",
       "      <th>X2</th>\n",
       "    </tr>\n",
       "  </thead>\n",
       "  <tbody>\n",
       "    <tr>\n",
       "      <th>0</th>\n",
       "      <td>1</td>\n",
       "      <td>6656</td>\n",
       "      <td>1077</td>\n",
       "      <td>82</td>\n",
       "      <td>6.616</td>\n",
       "      <td>3.836</td>\n",
       "      <td>7.216</td>\n",
       "      <td>5.428</td>\n",
       "      <td>1.592</td>\n",
       "      <td>1.788</td>\n",
       "      <td>...</td>\n",
       "      <td>6.157</td>\n",
       "      <td>0.660</td>\n",
       "      <td>0.033</td>\n",
       "      <td>-1.112</td>\n",
       "      <td>0.812</td>\n",
       "      <td>0.149</td>\n",
       "      <td>0.025</td>\n",
       "      <td>1</td>\n",
       "      <td>0</td>\n",
       "      <td>0</td>\n",
       "    </tr>\n",
       "    <tr>\n",
       "      <th>1</th>\n",
       "      <td>1</td>\n",
       "      <td>6625</td>\n",
       "      <td>1077</td>\n",
       "      <td>74</td>\n",
       "      <td>5.802</td>\n",
       "      <td>3.226</td>\n",
       "      <td>6.143</td>\n",
       "      <td>4.719</td>\n",
       "      <td>1.493</td>\n",
       "      <td>1.424</td>\n",
       "      <td>...</td>\n",
       "      <td>5.323</td>\n",
       "      <td>0.555</td>\n",
       "      <td>0.024</td>\n",
       "      <td>-1.114</td>\n",
       "      <td>0.745</td>\n",
       "      <td>0.159</td>\n",
       "      <td>0.023</td>\n",
       "      <td>1</td>\n",
       "      <td>0</td>\n",
       "      <td>0</td>\n",
       "    </tr>\n",
       "  </tbody>\n",
       "</table>\n",
       "<p>2 rows × 27 columns</p>\n",
       "</div>"
      ],
      "text/plain": [
       "   id  distance   len  Кол-во пиков  Сред.зн.пика    Min    Max  Медиана  \\\n",
       "0   1      6656  1077            82         6.616  3.836  7.216    5.428   \n",
       "1   1      6625  1077            74         5.802  3.226  6.143    4.719   \n",
       "\n",
       "   Смещение низ  Смещение верх  ...  Верх.квартиль  Дисперсия  Асимметрия  \\\n",
       "0         1.592          1.788  ...          6.157      0.660       0.033   \n",
       "1         1.493          1.424  ...          5.323      0.555       0.024   \n",
       "\n",
       "   Куртозис  Std откл.   Коэф.вариации  Std ошибка  X0  X1  X2  \n",
       "0    -1.112      0.812           0.149       0.025   1   0   0  \n",
       "1    -1.114      0.745           0.159       0.023   1   0   0  \n",
       "\n",
       "[2 rows x 27 columns]"
      ]
     },
     "execution_count": 4,
     "metadata": {},
     "output_type": "execute_result"
    }
   ],
   "source": [
    "file_name_dum = './datasets/all_dataset_dum.csv'\n",
    "data = pd.read_csv(file_name_dum, sep=\";\", encoding='utf8') #, low_memory=False)\n",
    "data = data.drop(['direction'], axis=1)\n",
    "data.head(2)\n"
   ]
  },
  {
   "cell_type": "code",
   "execution_count": 5,
   "id": "1cc008a6-c592-4d7b-b904-62d33f3e349f",
   "metadata": {},
   "outputs": [
    {
     "data": {
      "text/html": [
       "<div>\n",
       "<style scoped>\n",
       "    .dataframe tbody tr th:only-of-type {\n",
       "        vertical-align: middle;\n",
       "    }\n",
       "\n",
       "    .dataframe tbody tr th {\n",
       "        vertical-align: top;\n",
       "    }\n",
       "\n",
       "    .dataframe thead th {\n",
       "        text-align: right;\n",
       "    }\n",
       "</style>\n",
       "<table border=\"1\" class=\"dataframe\">\n",
       "  <thead>\n",
       "    <tr style=\"text-align: right;\">\n",
       "      <th></th>\n",
       "      <th>id</th>\n",
       "      <th>distance</th>\n",
       "      <th>len</th>\n",
       "      <th>Кол-во пиков</th>\n",
       "      <th>Сред.зн.пика</th>\n",
       "      <th>Min</th>\n",
       "      <th>Max</th>\n",
       "      <th>Медиана</th>\n",
       "      <th>Смещение низ</th>\n",
       "      <th>Смещение верх</th>\n",
       "      <th>...</th>\n",
       "      <th>Верх.квартиль</th>\n",
       "      <th>Дисперсия</th>\n",
       "      <th>Асимметрия</th>\n",
       "      <th>Куртозис</th>\n",
       "      <th>Std откл.</th>\n",
       "      <th>Коэф.вариации</th>\n",
       "      <th>Std ошибка</th>\n",
       "      <th>X0</th>\n",
       "      <th>X1</th>\n",
       "      <th>X2</th>\n",
       "    </tr>\n",
       "  </thead>\n",
       "  <tbody>\n",
       "    <tr>\n",
       "      <th>0</th>\n",
       "      <td>1</td>\n",
       "      <td>6656</td>\n",
       "      <td>1077</td>\n",
       "      <td>82</td>\n",
       "      <td>6.616</td>\n",
       "      <td>3.836</td>\n",
       "      <td>7.216</td>\n",
       "      <td>5.428</td>\n",
       "      <td>1.592</td>\n",
       "      <td>1.788</td>\n",
       "      <td>...</td>\n",
       "      <td>6.157</td>\n",
       "      <td>0.660</td>\n",
       "      <td>0.033</td>\n",
       "      <td>-1.112</td>\n",
       "      <td>0.812</td>\n",
       "      <td>0.149</td>\n",
       "      <td>0.025</td>\n",
       "      <td>1</td>\n",
       "      <td>0</td>\n",
       "      <td>0</td>\n",
       "    </tr>\n",
       "    <tr>\n",
       "      <th>1</th>\n",
       "      <td>1</td>\n",
       "      <td>6625</td>\n",
       "      <td>1077</td>\n",
       "      <td>74</td>\n",
       "      <td>5.802</td>\n",
       "      <td>3.226</td>\n",
       "      <td>6.143</td>\n",
       "      <td>4.719</td>\n",
       "      <td>1.493</td>\n",
       "      <td>1.424</td>\n",
       "      <td>...</td>\n",
       "      <td>5.323</td>\n",
       "      <td>0.555</td>\n",
       "      <td>0.024</td>\n",
       "      <td>-1.114</td>\n",
       "      <td>0.745</td>\n",
       "      <td>0.159</td>\n",
       "      <td>0.023</td>\n",
       "      <td>1</td>\n",
       "      <td>0</td>\n",
       "      <td>0</td>\n",
       "    </tr>\n",
       "  </tbody>\n",
       "</table>\n",
       "<p>2 rows × 27 columns</p>\n",
       "</div>"
      ],
      "text/plain": [
       "   id  distance   len  Кол-во пиков  Сред.зн.пика    Min    Max  Медиана  \\\n",
       "0   1      6656  1077            82         6.616  3.836  7.216    5.428   \n",
       "1   1      6625  1077            74         5.802  3.226  6.143    4.719   \n",
       "\n",
       "   Смещение низ  Смещение верх  ...  Верх.квартиль  Дисперсия  Асимметрия  \\\n",
       "0         1.592          1.788  ...          6.157      0.660       0.033   \n",
       "1         1.493          1.424  ...          5.323      0.555       0.024   \n",
       "\n",
       "   Куртозис  Std откл.   Коэф.вариации  Std ошибка  X0  X1  X2  \n",
       "0    -1.112      0.812           0.149       0.025   1   0   0  \n",
       "1    -1.114      0.745           0.159       0.023   1   0   0  \n",
       "\n",
       "[2 rows x 27 columns]"
      ]
     },
     "execution_count": 5,
     "metadata": {},
     "output_type": "execute_result"
    }
   ],
   "source": [
    "file_name_dum_balance = './datasets/all_dataset_dum_balance.csv'\n",
    "data_balance = pd.read_csv(file_name_dum_balance, sep=\";\", encoding='utf8') #, low_memory=False)\n",
    "data_balance = data_balance.drop(['direction'], axis=1)\n",
    "data_balance.head(2)\n"
   ]
  },
  {
   "cell_type": "markdown",
   "id": "a54386b2-a480-4730-bfa5-e0f20e4d8e65",
   "metadata": {},
   "source": [
    "# Const"
   ]
  },
  {
   "cell_type": "code",
   "execution_count": 6,
   "id": "01dc793d-d039-4673-8776-0e2d742aa420",
   "metadata": {},
   "outputs": [],
   "source": [
    "f_0 = ['id', 'distance', 'Кол-во пиков', 'Сред.зн.пика', 'Медиана', 'Смещение', \n",
    "       'Ниж.квартиль', 'Верх.квартиль', 'Дисперсия', 'Куртозис', 'X0', 'X1', 'X2']\n",
    "f_1 = ['id', 'distance', 'Кол-во пиков', 'Сред.зн.пика', 'Медиана', 'Смещение', \n",
    "       'Верх.квартиль', 'Дисперсия', 'Куртозис', 'X0', 'X1', 'X2']\n",
    "# f_2 = ['Max', 'Mean', 'Std откл.', 'Асимметрия', 'Куртозис', 'id']\n",
    "f_3 = ['id', 'distance', 'Кол-во пиков', 'Медиана', 'Смещение', \n",
    "        'Ниж.квартиль', 'Верх.квартиль', 'Дисперсия', 'Куртозис', 'X0', 'X1', 'X2']\n",
    "f_4 = ['id', 'distance', 'Кол-во пиков', 'Медиана', 'Смещение', \n",
    "       'Ниж.квартиль', 'Верх.квартиль', 'Дисперсия', 'Куртозис', 'X0', 'X1', 'X2']\n",
    "\n",
    "# feature_3 = ['Max', 'Куртозис', 'Гарм.сред.', 'Std откл.', 'Асимметрия', 'Ниж.квартиль', 'Верх.квартиль', 'id'] \n",
    "feature_4 = ['Max', 'Куртозис', 'Гарм.сред.', 'Std откл.', 'Асимметрия', 'X0', 'X1', 'X2', 'id'] \n",
    "feature_5 = ['Max', 'Куртозис', 'Гарм.сред.', 'Std откл.', 'Асимметрия', 'distance', 'id'] \n",
    "feature_6 = ['Max', 'Куртозис', 'Гарм.сред.', 'Std откл.', 'Асимметрия', 'Кол-во пиков', 'Сред.зн.пика', 'id'] \n",
    "feature_7 = ['Max', 'Куртозис', 'Гарм.сред.', 'X0', 'X1', 'X2', 'distance', 'Кол-во пиков', 'Сред.зн.пика', 'id'] \n",
    "feature_8 = ['Max', 'Куртозис', 'Гарм.сред.', 'Std откл.', 'Асимметрия', 'X0', 'X1', 'X2', 'distance', 'id'] "
   ]
  },
  {
   "cell_type": "code",
   "execution_count": 61,
   "id": "655a4a0e-cf36-4db7-af12-d2a4a5eb4e3f",
   "metadata": {},
   "outputs": [],
   "source": [
    "# LogisticRegression(max_iter=5000),\n",
    "# SVC(probability=True, random_state=0),                     # Метод опорных векторов\n",
    "# RandomForestClassifier(n_estimators=300, random_state=42), # Случайный лес\n",
    "# ExtraTreesClassifier(n_estimators=300, random_state=42),    # Случайный лес экстремальных деревьев\n",
    "# GradientBoostingClassifier(n_estimators=200, random_state=42),\n",
    "# KNeighborsClassifier(),                                    # Метод ближайших соседей\n",
    "# AdaBoostClassifier()\n",
    "\n",
    "# XGBClassifier() # градиентного бустинга\n",
    "# MLPClassifier() # многослойный персептрон"
   ]
  },
  {
   "cell_type": "code",
   "execution_count": 98,
   "id": "57f728b9-7c8f-497c-ae77-5d77f6ad8bc7",
   "metadata": {},
   "outputs": [],
   "source": [
    "model_LogisticRegression_1 = LogisticRegression(random_state=42)\n",
    "\n",
    "models = [\n",
    "    LogisticRegression(random_state=42),\n",
    "    SVC(random_state=42),\n",
    "    RandomForestClassifier(random_state=42),\n",
    "    ExtraTreesClassifier(random_state=42),\n",
    "    GradientBoostingClassifier(n_estimators=200, random_state=42),\n",
    "    KNeighborsClassifier(),\n",
    "    AdaBoostClassifier(random_state=42),\n",
    "    XGBClassifier(random_state=42),\n",
    "    MLPClassifier(random_state=42),\n",
    "]"
   ]
  },
  {
   "cell_type": "code",
   "execution_count": 102,
   "id": "b0485362-253b-4f52-ab67-299338314def",
   "metadata": {},
   "outputs": [],
   "source": [
    "estimators_1 = [\n",
    "    KNeighborsClassifier(),  \n",
    "    ExtraTreesClassifier(n_estimators=300, random_state=42)  \n",
    "]\n",
    "\n",
    "estimators_2 = [\n",
    "    LogisticRegression(max_iter=5000, random_state=42),\n",
    "    SVC(probability=True, random_state=42),\n",
    "    RandomForestClassifier(n_estimators=300, random_state=42),\n",
    "    ExtraTreesClassifier(n_estimators=300, random_state=42),\n",
    "    GradientBoostingClassifier(n_estimators=200, random_state=42),\n",
    "    KNeighborsClassifier(), \n",
    "    # AdaBoostClassifier(),\n",
    "    # XGBClassifier(),\n",
    "    # MLPClassifier()\n",
    "]\n",
    "\n",
    "estimators_3 = [\n",
    "    LogisticRegression(max_iter=5000),\n",
    "    SVC(probability=True, random_state=0),                     \n",
    "    RandomForestClassifier(n_estimators=300, random_state=42), \n",
    "    # ExtraTreesClassifier(n_estimators=300, random_state=42),    \n",
    "    GradientBoostingClassifier(n_estimators=200, random_state=42),\n",
    "    KNeighborsClassifier(), \n",
    "]\n",
    "\n",
    "\n",
    "estimators_21 = [\n",
    "    LogisticRegression(C=0.1, max_iter=1000, random_state=42),\n",
    "    SVC(probability=True, random_state=42),\n",
    "    RandomForestClassifier(n_estimators=300, random_state=42),\n",
    "    ExtraTreesClassifier(n_estimators=300, random_state=42),\n",
    "    GradientBoostingClassifier(n_estimators=200, random_state=42),\n",
    "    KNeighborsClassifier(), \n",
    "    # AdaBoostClassifier(),\n",
    "    # XGBClassifier(),\n",
    "    # MLPClassifier()\n",
    "]"
   ]
  },
  {
   "cell_type": "markdown",
   "id": "42f4d8ae-db9c-4c9d-98ec-6b2df441daa6",
   "metadata": {},
   "source": [
    "# Main"
   ]
  },
  {
   "cell_type": "markdown",
   "id": "121085c9-83c9-4511-86b5-ff7cf31548ca",
   "metadata": {},
   "source": [
    "### data_balance[f_0]"
   ]
  },
  {
   "cell_type": "code",
   "execution_count": 106,
   "id": "c36e80c9-309d-408b-9a76-6eaf610defd2",
   "metadata": {},
   "outputs": [
    {
     "name": "stdout",
     "output_type": "stream",
     "text": [
      "(3385, 12)\n"
     ]
    }
   ],
   "source": [
    "df = data_balance[f_0]\n",
    "y =  np.array(df['id'])  # Target variable\n",
    "X = np.array(df.drop('id', axis=1))  # Features\n",
    "X_train, X_test, y_train, y_test = train_test_split(X, y, test_size=0.2, shuffle=True, random_state=42)\n",
    "print(X_train.shape)"
   ]
  },
  {
   "cell_type": "code",
   "execution_count": 58,
   "id": "0c49f1a7-330b-4cb6-a4a9-d597f94c92e8",
   "metadata": {},
   "outputs": [
    {
     "name": "stdout",
     "output_type": "stream",
     "text": [
      "stacking   acc: 74.38   f1: 0.75\n",
      "blending   acc: 73.67   f1: 0.74\n"
     ]
    }
   ],
   "source": [
    "start(X_train, X_test, y_train, y_test, estimators_1, model_LogisticRegression_1)"
   ]
  },
  {
   "cell_type": "code",
   "execution_count": 59,
   "id": "0f4a86f6-432a-41e9-8cd2-accc39431f89",
   "metadata": {},
   "outputs": [
    {
     "name": "stdout",
     "output_type": "stream",
     "text": [
      "stacking   acc: 76.03   f1: 0.77\n",
      "blending   acc: 74.26   f1: 0.75\n"
     ]
    }
   ],
   "source": [
    "start(X_train, X_test, y_train, y_test, estimators_2, model_LogisticRegression_1)"
   ]
  },
  {
   "cell_type": "code",
   "execution_count": 107,
   "id": "4c9752fd-86e3-4b93-ba22-574493f6f1d7",
   "metadata": {},
   "outputs": [
    {
     "name": "stdout",
     "output_type": "stream",
     "text": [
      "LogisticRegression\n",
      "stacking   acc: 74.38   f1: 0.75\n",
      "blending   acc: 73.67   f1: 0.74\n",
      "SVC\n",
      "stacking   acc: 74.38   f1: 0.75\n",
      "blending   acc: 73.67   f1: 0.74\n",
      "RandomForestClassifier\n",
      "stacking   acc: 74.38   f1: 0.75\n",
      "blending   acc: 73.67   f1: 0.74\n",
      "ExtraTreesClassifier\n",
      "stacking   acc: 74.38   f1: 0.75\n",
      "blending   acc: 73.67   f1: 0.74\n",
      "GradientBoostingClassifier\n",
      "stacking   acc: 74.38   f1: 0.75\n",
      "blending   acc: 73.67   f1: 0.74\n",
      "KNeighborsClassifier\n"
     ]
    },
    {
     "name": "stderr",
     "output_type": "stream",
     "text": [
      "C:\\An\\Skillfactory\\ML_M1\\pythonProject\\.venv\\lib\\site-packages\\sklearn\\neighbors\\_classification.py:228: FutureWarning: Unlike other reduction functions (e.g. `skew`, `kurtosis`), the default behavior of `mode` typically preserves the axis it acts along. In SciPy 1.11.0, this behavior will change: the default value of `keepdims` will become False, the `axis` over which the statistic is taken will be eliminated, and the value None will no longer be accepted. Set `keepdims` to True or False to avoid this warning.\n",
      "  mode, _ = stats.mode(_y[neigh_ind, k], axis=1)\n"
     ]
    },
    {
     "name": "stdout",
     "output_type": "stream",
     "text": [
      "stacking   acc: 74.38   f1: 0.75\n"
     ]
    },
    {
     "name": "stderr",
     "output_type": "stream",
     "text": [
      "C:\\An\\Skillfactory\\ML_M1\\pythonProject\\.venv\\lib\\site-packages\\sklearn\\neighbors\\_classification.py:228: FutureWarning: Unlike other reduction functions (e.g. `skew`, `kurtosis`), the default behavior of `mode` typically preserves the axis it acts along. In SciPy 1.11.0, this behavior will change: the default value of `keepdims` will become False, the `axis` over which the statistic is taken will be eliminated, and the value None will no longer be accepted. Set `keepdims` to True or False to avoid this warning.\n",
      "  mode, _ = stats.mode(_y[neigh_ind, k], axis=1)\n"
     ]
    },
    {
     "name": "stdout",
     "output_type": "stream",
     "text": [
      "blending   acc: 63.99   f1: 0.57\n",
      "AdaBoostClassifier\n",
      "stacking   acc: 74.38   f1: 0.75\n",
      "blending   acc: 73.67   f1: 0.74\n",
      "XGBClassifier\n",
      "stacking   acc: 74.38   f1: 0.75\n",
      "blending   acc: 73.67   f1: 0.74\n",
      "MLPClassifier\n",
      "stacking   acc: 74.38   f1: 0.75\n",
      "blending   acc: 73.67   f1: 0.74\n"
     ]
    }
   ],
   "source": [
    "for model in models:\n",
    "    print(type(model).__name__)\n",
    "    start(X_train, X_test, y_train, y_test, estimators_1, model)"
   ]
  },
  {
   "cell_type": "markdown",
   "id": "e0e4d546-bedc-4d42-b81d-f30d9e8720c5",
   "metadata": {},
   "source": [
    "### data_balance"
   ]
  },
  {
   "cell_type": "code",
   "execution_count": 64,
   "id": "3c40f3de-ddfc-43b6-810f-72bfe156ad1c",
   "metadata": {},
   "outputs": [
    {
     "name": "stdout",
     "output_type": "stream",
     "text": [
      "(3385, 26)\n"
     ]
    }
   ],
   "source": [
    "df = data_balance\n",
    "y =  np.array(df['id'])  # Target variable\n",
    "X = np.array(df.drop('id', axis=1))  # Features\n",
    "X_train, X_test, y_train, y_test = train_test_split(X, y, test_size=0.2, shuffle=True, random_state=42)\n",
    "print(X_train.shape)"
   ]
  },
  {
   "cell_type": "code",
   "execution_count": 51,
   "id": "1c07fe17-f73c-429c-84fe-da32f2e21323",
   "metadata": {},
   "outputs": [
    {
     "name": "stdout",
     "output_type": "stream",
     "text": [
      "stacking   acc: 77.80   f1: 0.79\n",
      "blending   acc: 75.91   f1: 0.77\n"
     ]
    }
   ],
   "source": [
    "start(X_train, X_test, y_train, y_test, estimators_1, model_LogisticRegression_1)"
   ]
  },
  {
   "cell_type": "code",
   "execution_count": 90,
   "id": "2556f37e-4d5a-424f-bb01-60ded8cec943",
   "metadata": {},
   "outputs": [
    {
     "name": "stdout",
     "output_type": "stream",
     "text": [
      "stacking   acc: 80.28   f1: 0.82\n",
      "blending   acc: 78.98   f1: 0.80\n"
     ]
    }
   ],
   "source": [
    "start(X_train, X_test, y_train, y_test, estimators_2, model_LogisticRegression_1)"
   ]
  },
  {
   "cell_type": "code",
   "execution_count": 103,
   "id": "b92ecaf8-5a2f-4142-8cb9-050d2e9bd539",
   "metadata": {},
   "outputs": [
    {
     "name": "stdout",
     "output_type": "stream",
     "text": [
      "stacking   acc: 80.28   f1: 0.82\n",
      "blending   acc: 78.98   f1: 0.80\n"
     ]
    }
   ],
   "source": [
    "start(X_train, X_test, y_train, y_test, estimators_21, model_LogisticRegression_1)"
   ]
  },
  {
   "cell_type": "code",
   "execution_count": 85,
   "id": "93fe8faf-afbe-4e03-bf20-a9787c873bc9",
   "metadata": {},
   "outputs": [
    {
     "name": "stdout",
     "output_type": "stream",
     "text": [
      "stacking   acc: 79.81   f1: 0.81\n",
      "blending   acc: 78.98   f1: 0.80\n"
     ]
    }
   ],
   "source": [
    "start(X_train, X_test, y_train, y_test, estimators_3, model_LogisticRegression_1)"
   ]
  },
  {
   "cell_type": "code",
   "execution_count": 99,
   "id": "e63255e5-d624-4406-9ce9-1bd976e7465e",
   "metadata": {},
   "outputs": [
    {
     "name": "stdout",
     "output_type": "stream",
     "text": [
      "LogisticRegression\n",
      "stacking   acc: 77.80   f1: 0.79\n",
      "blending   acc: 75.91   f1: 0.77\n",
      "SVC\n",
      "stacking   acc: 77.80   f1: 0.79\n",
      "blending   acc: 75.91   f1: 0.77\n",
      "RandomForestClassifier\n",
      "stacking   acc: 77.80   f1: 0.79\n",
      "blending   acc: 75.91   f1: 0.77\n",
      "ExtraTreesClassifier\n",
      "stacking   acc: 77.80   f1: 0.79\n",
      "blending   acc: 75.91   f1: 0.77\n",
      "GradientBoostingClassifier\n",
      "stacking   acc: 77.80   f1: 0.79\n",
      "blending   acc: 75.91   f1: 0.77\n",
      "KNeighborsClassifier\n"
     ]
    },
    {
     "name": "stderr",
     "output_type": "stream",
     "text": [
      "C:\\An\\Skillfactory\\ML_M1\\pythonProject\\.venv\\lib\\site-packages\\sklearn\\neighbors\\_classification.py:228: FutureWarning: Unlike other reduction functions (e.g. `skew`, `kurtosis`), the default behavior of `mode` typically preserves the axis it acts along. In SciPy 1.11.0, this behavior will change: the default value of `keepdims` will become False, the `axis` over which the statistic is taken will be eliminated, and the value None will no longer be accepted. Set `keepdims` to True or False to avoid this warning.\n",
      "  mode, _ = stats.mode(_y[neigh_ind, k], axis=1)\n"
     ]
    },
    {
     "name": "stdout",
     "output_type": "stream",
     "text": [
      "stacking   acc: 77.80   f1: 0.79\n"
     ]
    },
    {
     "name": "stderr",
     "output_type": "stream",
     "text": [
      "C:\\An\\Skillfactory\\ML_M1\\pythonProject\\.venv\\lib\\site-packages\\sklearn\\neighbors\\_classification.py:228: FutureWarning: Unlike other reduction functions (e.g. `skew`, `kurtosis`), the default behavior of `mode` typically preserves the axis it acts along. In SciPy 1.11.0, this behavior will change: the default value of `keepdims` will become False, the `axis` over which the statistic is taken will be eliminated, and the value None will no longer be accepted. Set `keepdims` to True or False to avoid this warning.\n",
      "  mode, _ = stats.mode(_y[neigh_ind, k], axis=1)\n"
     ]
    },
    {
     "name": "stdout",
     "output_type": "stream",
     "text": [
      "blending   acc: 62.57   f1: 0.55\n",
      "AdaBoostClassifier\n",
      "stacking   acc: 77.80   f1: 0.79\n",
      "blending   acc: 75.91   f1: 0.77\n",
      "XGBClassifier\n",
      "stacking   acc: 77.80   f1: 0.79\n",
      "blending   acc: 75.91   f1: 0.77\n",
      "MLPClassifier\n",
      "stacking   acc: 77.80   f1: 0.79\n",
      "blending   acc: 75.91   f1: 0.77\n"
     ]
    }
   ],
   "source": [
    "for model in models:\n",
    "    print(type(model).__name__)\n",
    "    start(X_train, X_test, y_train, y_test, estimators_1, model)"
   ]
  },
  {
   "cell_type": "code",
   "execution_count": 97,
   "id": "a329b56b-b1f0-4f0a-83df-d39cdde206f0",
   "metadata": {},
   "outputs": [
    {
     "name": "stdout",
     "output_type": "stream",
     "text": [
      "LogisticRegression\n",
      "stacking   acc: 80.28   f1: 0.82\n",
      "blending   acc: 78.98   f1: 0.80\n",
      "SVC\n",
      "stacking   acc: 79.81   f1: 0.81\n",
      "blending   acc: 79.34   f1: 0.81\n",
      "RandomForestClassifier\n",
      "stacking   acc: 79.69   f1: 0.81\n",
      "blending   acc: 77.80   f1: 0.79\n",
      "ExtraTreesClassifier\n",
      "stacking   acc: 79.57   f1: 0.81\n",
      "blending   acc: 77.45   f1: 0.79\n",
      "GradientBoostingClassifier\n",
      "stacking   acc: 79.93   f1: 0.81\n",
      "blending   acc: 78.04   f1: 0.80\n",
      "KNeighborsClassifier\n"
     ]
    },
    {
     "name": "stderr",
     "output_type": "stream",
     "text": [
      "C:\\An\\Skillfactory\\ML_M1\\pythonProject\\.venv\\lib\\site-packages\\sklearn\\neighbors\\_classification.py:228: FutureWarning: Unlike other reduction functions (e.g. `skew`, `kurtosis`), the default behavior of `mode` typically preserves the axis it acts along. In SciPy 1.11.0, this behavior will change: the default value of `keepdims` will become False, the `axis` over which the statistic is taken will be eliminated, and the value None will no longer be accepted. Set `keepdims` to True or False to avoid this warning.\n",
      "  mode, _ = stats.mode(_y[neigh_ind, k], axis=1)\n"
     ]
    },
    {
     "name": "stdout",
     "output_type": "stream",
     "text": [
      "stacking   acc: 79.46   f1: 0.81\n"
     ]
    },
    {
     "name": "stderr",
     "output_type": "stream",
     "text": [
      "C:\\An\\Skillfactory\\ML_M1\\pythonProject\\.venv\\lib\\site-packages\\sklearn\\neighbors\\_classification.py:228: FutureWarning: Unlike other reduction functions (e.g. `skew`, `kurtosis`), the default behavior of `mode` typically preserves the axis it acts along. In SciPy 1.11.0, this behavior will change: the default value of `keepdims` will become False, the `axis` over which the statistic is taken will be eliminated, and the value None will no longer be accepted. Set `keepdims` to True or False to avoid this warning.\n",
      "  mode, _ = stats.mode(_y[neigh_ind, k], axis=1)\n"
     ]
    },
    {
     "name": "stdout",
     "output_type": "stream",
     "text": [
      "blending   acc: 76.74   f1: 0.79\n",
      "AdaBoostClassifier\n",
      "stacking   acc: 80.28   f1: 0.82\n",
      "blending   acc: 79.22   f1: 0.81\n",
      "XGBClassifier\n",
      "stacking   acc: 79.57   f1: 0.81\n",
      "blending   acc: 77.45   f1: 0.79\n",
      "MLPClassifier\n",
      "stacking   acc: 79.93   f1: 0.81\n",
      "blending   acc: 79.22   f1: 0.81\n"
     ]
    },
    {
     "name": "stderr",
     "output_type": "stream",
     "text": [
      "C:\\An\\Skillfactory\\ML_M1\\pythonProject\\.venv\\lib\\site-packages\\sklearn\\neural_network\\_multilayer_perceptron.py:692: ConvergenceWarning: Stochastic Optimizer: Maximum iterations (200) reached and the optimization hasn't converged yet.\n",
      "  warnings.warn(\n"
     ]
    }
   ],
   "source": [
    "for model in models:\n",
    "    print(type(model).__name__)\n",
    "    start(X_train, X_test, y_train, y_test, estimators_2, model)"
   ]
  },
  {
   "cell_type": "markdown",
   "id": "d25f1329-82df-4e2e-ac82-94e9ee9a04e9",
   "metadata": {},
   "source": [
    "### data"
   ]
  },
  {
   "cell_type": "code",
   "execution_count": 104,
   "id": "f038174e-a222-492e-af8e-9bbd833c9eeb",
   "metadata": {},
   "outputs": [
    {
     "name": "stdout",
     "output_type": "stream",
     "text": [
      "(3972, 26)\n"
     ]
    }
   ],
   "source": [
    "df = data\n",
    "y =  np.array(df['id'])  # Target variable\n",
    "X = np.array(df.drop('id', axis=1))  # Features\n",
    "X_train, X_test, y_train, y_test = train_test_split(X, y, test_size=0.2, shuffle=True, random_state=42)\n",
    "print(X_train.shape)"
   ]
  },
  {
   "cell_type": "code",
   "execution_count": 56,
   "id": "21c2ac82-cbb5-4b17-be19-3f255fd54c8b",
   "metadata": {},
   "outputs": [
    {
     "name": "stdout",
     "output_type": "stream",
     "text": [
      "stacking   acc: 77.14   f1: 0.73\n",
      "blending   acc: 75.23   f1: 0.70\n"
     ]
    }
   ],
   "source": [
    "start(X_train, X_test, y_train, y_test, estimators_2, model_LogisticRegression_1)"
   ]
  },
  {
   "cell_type": "code",
   "execution_count": 105,
   "id": "c56d970d-19ac-43b8-af08-9a47282c784f",
   "metadata": {},
   "outputs": [
    {
     "name": "stdout",
     "output_type": "stream",
     "text": [
      "LogisticRegression\n",
      "stacking   acc: 76.33   f1: 0.72\n",
      "blending   acc: 75.73   f1: 0.71\n",
      "SVC\n",
      "stacking   acc: 76.33   f1: 0.72\n",
      "blending   acc: 75.73   f1: 0.71\n",
      "RandomForestClassifier\n",
      "stacking   acc: 76.33   f1: 0.72\n",
      "blending   acc: 75.73   f1: 0.71\n",
      "ExtraTreesClassifier\n",
      "stacking   acc: 76.33   f1: 0.72\n",
      "blending   acc: 75.73   f1: 0.71\n",
      "GradientBoostingClassifier\n",
      "stacking   acc: 76.33   f1: 0.72\n",
      "blending   acc: 75.73   f1: 0.71\n",
      "KNeighborsClassifier\n"
     ]
    },
    {
     "name": "stderr",
     "output_type": "stream",
     "text": [
      "C:\\An\\Skillfactory\\ML_M1\\pythonProject\\.venv\\lib\\site-packages\\sklearn\\neighbors\\_classification.py:228: FutureWarning: Unlike other reduction functions (e.g. `skew`, `kurtosis`), the default behavior of `mode` typically preserves the axis it acts along. In SciPy 1.11.0, this behavior will change: the default value of `keepdims` will become False, the `axis` over which the statistic is taken will be eliminated, and the value None will no longer be accepted. Set `keepdims` to True or False to avoid this warning.\n",
      "  mode, _ = stats.mode(_y[neigh_ind, k], axis=1)\n"
     ]
    },
    {
     "name": "stdout",
     "output_type": "stream",
     "text": [
      "stacking   acc: 76.33   f1: 0.72\n"
     ]
    },
    {
     "name": "stderr",
     "output_type": "stream",
     "text": [
      "C:\\An\\Skillfactory\\ML_M1\\pythonProject\\.venv\\lib\\site-packages\\sklearn\\neighbors\\_classification.py:228: FutureWarning: Unlike other reduction functions (e.g. `skew`, `kurtosis`), the default behavior of `mode` typically preserves the axis it acts along. In SciPy 1.11.0, this behavior will change: the default value of `keepdims` will become False, the `axis` over which the statistic is taken will be eliminated, and the value None will no longer be accepted. Set `keepdims` to True or False to avoid this warning.\n",
      "  mode, _ = stats.mode(_y[neigh_ind, k], axis=1)\n"
     ]
    },
    {
     "name": "stdout",
     "output_type": "stream",
     "text": [
      "blending   acc: 64.65   f1: 0.45\n",
      "AdaBoostClassifier\n",
      "stacking   acc: 76.33   f1: 0.72\n",
      "blending   acc: 75.73   f1: 0.71\n",
      "XGBClassifier\n",
      "stacking   acc: 76.33   f1: 0.72\n",
      "blending   acc: 75.73   f1: 0.71\n",
      "MLPClassifier\n",
      "stacking   acc: 76.33   f1: 0.72\n",
      "blending   acc: 75.73   f1: 0.71\n"
     ]
    }
   ],
   "source": [
    "for model in models:\n",
    "    print(type(model).__name__)\n",
    "    start(X_train, X_test, y_train, y_test, estimators_1, model)"
   ]
  },
  {
   "cell_type": "code",
   "execution_count": null,
   "id": "a9bc6b30-797f-4f9b-bc93-64641b731998",
   "metadata": {},
   "outputs": [],
   "source": []
  }
 ],
 "metadata": {
  "kernelspec": {
   "display_name": "Python 3 (ipykernel)",
   "language": "python",
   "name": "python3"
  },
  "language_info": {
   "codemirror_mode": {
    "name": "ipython",
    "version": 3
   },
   "file_extension": ".py",
   "mimetype": "text/x-python",
   "name": "python",
   "nbconvert_exporter": "python",
   "pygments_lexer": "ipython3",
   "version": "3.8.10"
  }
 },
 "nbformat": 4,
 "nbformat_minor": 5
}
