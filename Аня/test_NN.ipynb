{
 "cells": [
  {
   "cell_type": "code",
   "execution_count": 1,
   "id": "c069162f-0c94-4db2-9296-b3bb8f82d845",
   "metadata": {},
   "outputs": [],
   "source": [
    "import numpy as np\n",
    "import pandas as pd\n",
    "import matplotlib.pyplot as plt\n",
    "from sklearn.datasets import load_diabetes\n",
    "from sklearn.preprocessing import LabelEncoder\n",
    "from sklearn.metrics import accuracy_score, mean_absolute_percentage_error\n",
    "from sklearn.model_selection import train_test_split, cross_val_predict\n",
    "from sklearn.svm import SVC\n",
    "from sklearn.linear_model import RidgeCV, LogisticRegression\n",
    "from sklearn.ensemble import StackingClassifier, StackingRegressor\n",
    "from sklearn.ensemble import RandomForestClassifier, RandomForestRegressor\n",
    "from sklearn.ensemble import GradientBoostingClassifier, GradientBoostingRegressor\n",
    "from joblib import Parallel, delayed\n",
    "# from mlxtend.plotting import plot_decision_regions\n",
    "\n",
    "from sklearn.ensemble import (AdaBoostClassifier, GradientBoostingClassifier,\n",
    "                              RandomForestClassifier, ExtraTreesClassifier)\n",
    "from sklearn.linear_model import LogisticRegression, LinearRegression\n",
    "from sklearn.tree import DecisionTreeClassifier\n",
    "from sklearn.base import clone\n",
    "from sklearn.neighbors import KNeighborsClassifier"
   ]
  },
  {
   "cell_type": "code",
   "execution_count": 2,
   "id": "27f4e749-9203-4445-bde4-5661d7505acc",
   "metadata": {},
   "outputs": [],
   "source": [
    "class Stacking:\n",
    "    def __init__(self, estimators, final_estimator, blending=False, cv=5, n_jobs=-1):\n",
    "        self.estimators = estimators\n",
    "        self.final_estimator = final_estimator\n",
    "        self.blending = blending\n",
    "        self.cv = cv\n",
    "        self.n_jobs = n_jobs\n",
    "\n",
    "    def _X_pred(self, estimator, data):\n",
    "        if self.blending:\n",
    "            X_train_v, y_train_v, X_val = data\n",
    "            return estimator.fit(X_train_v, y_train_v).predict(X_val)\n",
    "        else:\n",
    "            X_train, y_train = data\n",
    "            return cross_val_predict(estimator, X_train, y_train, cv=self.cv)\n",
    "\n",
    "    def _X_test_pred(self, estimator, data):\n",
    "        X_train, y_train, X_test = data\n",
    "\n",
    "        return estimator.fit(X_train, y_train).predict(X_test)\n",
    "\n",
    "    def _meta_data(self, X_train, y_train, X_test):\n",
    "        if self.blending:\n",
    "            #used hold-out cross-validation\n",
    "            X_train_v, X_val, y_train_v, y_val = train_test_split(X_train, y_train, random_state=0)\n",
    "            train_data = [X_train_v, y_train_v, X_val]\n",
    "            test_data = [X_train_v, y_train_v, X_test]\n",
    "            meta_y_train = y_val\n",
    "        else:\n",
    "            train_data = [X_train, y_train]\n",
    "            test_data = [X_train, y_train, X_test]\n",
    "            meta_y_train = y_train\n",
    "\n",
    "        cv_X_train_preds = (delayed(self._X_pred)(est, train_data) for est in self.estimators)\n",
    "        X_test_preds = (delayed(self._X_test_pred)(est, test_data) for est in self.estimators)\n",
    "\n",
    "        meta_X_train = pd.DataFrame(Parallel(n_jobs=self.n_jobs)(cv_X_train_preds))\n",
    "        meta_X_test = pd.DataFrame(Parallel(n_jobs=self.n_jobs)(X_test_preds))\n",
    "\n",
    "        return meta_X_train.T, meta_y_train, meta_X_test.T\n",
    "\n",
    "    def fit_predict(self, X_train, y_train, X_test):\n",
    "        # meta learner or blender\n",
    "        meta_X_train, meta_y_train, meta_X_test = self._meta_data(X_train, y_train, X_test)\n",
    "\n",
    "        return self.final_estimator.fit(meta_X_train, meta_y_train).predict(meta_X_test)"
   ]
  },
  {
   "cell_type": "code",
   "execution_count": 3,
   "id": "54e0a652-c822-4e82-8d23-493195d70484",
   "metadata": {},
   "outputs": [],
   "source": [
    "def decision_boundary_plot(X, y, X_train, y_train, clf, feature_indexes, title=None):\n",
    "    feature1_name, feature2_name = X.columns[feature_indexes]\n",
    "    X_feature_columns = X.values[:, feature_indexes]\n",
    "    X_train_feature_columns = X_train.values[:, feature_indexes]\n",
    "    clf.fit(X_train_feature_columns, y_train.values)\n",
    "\n",
    "    plot_decision_regions(X=X_feature_columns, y=y.values, clf=clf)\n",
    "    plt.xlabel(feature1_name)\n",
    "    plt.ylabel(feature2_name)\n",
    "    plt.title(title)"
   ]
  },
  {
   "cell_type": "code",
   "execution_count": 4,
   "id": "5996db0c-83d9-4c81-ba30-9f9f673a54ff",
   "metadata": {},
   "outputs": [
    {
     "data": {
      "text/html": [
       "<div>\n",
       "<style scoped>\n",
       "    .dataframe tbody tr th:only-of-type {\n",
       "        vertical-align: middle;\n",
       "    }\n",
       "\n",
       "    .dataframe tbody tr th {\n",
       "        vertical-align: top;\n",
       "    }\n",
       "\n",
       "    .dataframe thead th {\n",
       "        text-align: right;\n",
       "    }\n",
       "</style>\n",
       "<table border=\"1\" class=\"dataframe\">\n",
       "  <thead>\n",
       "    <tr style=\"text-align: right;\">\n",
       "      <th></th>\n",
       "      <th>id</th>\n",
       "      <th>distance</th>\n",
       "      <th>len</th>\n",
       "      <th>Кол-во пиков</th>\n",
       "      <th>Сред.зн.пика</th>\n",
       "      <th>Min</th>\n",
       "      <th>Max</th>\n",
       "      <th>Медиана</th>\n",
       "      <th>Смещение низ</th>\n",
       "      <th>Смещение верх</th>\n",
       "      <th>...</th>\n",
       "      <th>Верх.квартиль</th>\n",
       "      <th>Дисперсия</th>\n",
       "      <th>Асимметрия</th>\n",
       "      <th>Куртозис</th>\n",
       "      <th>Std откл.</th>\n",
       "      <th>Коэф.вариации</th>\n",
       "      <th>Std ошибка</th>\n",
       "      <th>X0</th>\n",
       "      <th>X1</th>\n",
       "      <th>X2</th>\n",
       "    </tr>\n",
       "  </thead>\n",
       "  <tbody>\n",
       "    <tr>\n",
       "      <th>0</th>\n",
       "      <td>1</td>\n",
       "      <td>6656</td>\n",
       "      <td>1077</td>\n",
       "      <td>82</td>\n",
       "      <td>6.616</td>\n",
       "      <td>3.836</td>\n",
       "      <td>7.216</td>\n",
       "      <td>5.428</td>\n",
       "      <td>1.592</td>\n",
       "      <td>1.788</td>\n",
       "      <td>...</td>\n",
       "      <td>6.157</td>\n",
       "      <td>0.660</td>\n",
       "      <td>0.033</td>\n",
       "      <td>-1.112</td>\n",
       "      <td>0.812</td>\n",
       "      <td>0.149</td>\n",
       "      <td>0.025</td>\n",
       "      <td>1</td>\n",
       "      <td>0</td>\n",
       "      <td>0</td>\n",
       "    </tr>\n",
       "    <tr>\n",
       "      <th>1</th>\n",
       "      <td>1</td>\n",
       "      <td>6625</td>\n",
       "      <td>1077</td>\n",
       "      <td>74</td>\n",
       "      <td>5.802</td>\n",
       "      <td>3.226</td>\n",
       "      <td>6.143</td>\n",
       "      <td>4.719</td>\n",
       "      <td>1.493</td>\n",
       "      <td>1.424</td>\n",
       "      <td>...</td>\n",
       "      <td>5.323</td>\n",
       "      <td>0.555</td>\n",
       "      <td>0.024</td>\n",
       "      <td>-1.114</td>\n",
       "      <td>0.745</td>\n",
       "      <td>0.159</td>\n",
       "      <td>0.023</td>\n",
       "      <td>1</td>\n",
       "      <td>0</td>\n",
       "      <td>0</td>\n",
       "    </tr>\n",
       "  </tbody>\n",
       "</table>\n",
       "<p>2 rows × 27 columns</p>\n",
       "</div>"
      ],
      "text/plain": [
       "   id  distance   len  Кол-во пиков  Сред.зн.пика    Min    Max  Медиана  \\\n",
       "0   1      6656  1077            82         6.616  3.836  7.216    5.428   \n",
       "1   1      6625  1077            74         5.802  3.226  6.143    4.719   \n",
       "\n",
       "   Смещение низ  Смещение верх  ...  Верх.квартиль  Дисперсия  Асимметрия  \\\n",
       "0         1.592          1.788  ...          6.157      0.660       0.033   \n",
       "1         1.493          1.424  ...          5.323      0.555       0.024   \n",
       "\n",
       "   Куртозис  Std откл.   Коэф.вариации  Std ошибка  X0  X1  X2  \n",
       "0    -1.112      0.812           0.149       0.025   1   0   0  \n",
       "1    -1.114      0.745           0.159       0.023   1   0   0  \n",
       "\n",
       "[2 rows x 27 columns]"
      ]
     },
     "execution_count": 4,
     "metadata": {},
     "output_type": "execute_result"
    }
   ],
   "source": [
    "file_name_dum = './datasets/all_dataset_dum.csv'\n",
    "data = pd.read_csv(file_name_dum, sep=\";\", encoding='utf8') #, low_memory=False)\n",
    "data = data.drop(['direction'], axis=1)\n",
    "data.head(2)\n"
   ]
  },
  {
   "cell_type": "code",
   "execution_count": 5,
   "id": "1cc008a6-c592-4d7b-b904-62d33f3e349f",
   "metadata": {},
   "outputs": [
    {
     "data": {
      "text/html": [
       "<div>\n",
       "<style scoped>\n",
       "    .dataframe tbody tr th:only-of-type {\n",
       "        vertical-align: middle;\n",
       "    }\n",
       "\n",
       "    .dataframe tbody tr th {\n",
       "        vertical-align: top;\n",
       "    }\n",
       "\n",
       "    .dataframe thead th {\n",
       "        text-align: right;\n",
       "    }\n",
       "</style>\n",
       "<table border=\"1\" class=\"dataframe\">\n",
       "  <thead>\n",
       "    <tr style=\"text-align: right;\">\n",
       "      <th></th>\n",
       "      <th>id</th>\n",
       "      <th>distance</th>\n",
       "      <th>len</th>\n",
       "      <th>Кол-во пиков</th>\n",
       "      <th>Сред.зн.пика</th>\n",
       "      <th>Min</th>\n",
       "      <th>Max</th>\n",
       "      <th>Медиана</th>\n",
       "      <th>Смещение низ</th>\n",
       "      <th>Смещение верх</th>\n",
       "      <th>...</th>\n",
       "      <th>Верх.квартиль</th>\n",
       "      <th>Дисперсия</th>\n",
       "      <th>Асимметрия</th>\n",
       "      <th>Куртозис</th>\n",
       "      <th>Std откл.</th>\n",
       "      <th>Коэф.вариации</th>\n",
       "      <th>Std ошибка</th>\n",
       "      <th>X0</th>\n",
       "      <th>X1</th>\n",
       "      <th>X2</th>\n",
       "    </tr>\n",
       "  </thead>\n",
       "  <tbody>\n",
       "    <tr>\n",
       "      <th>0</th>\n",
       "      <td>1</td>\n",
       "      <td>6656</td>\n",
       "      <td>1077</td>\n",
       "      <td>82</td>\n",
       "      <td>6.616</td>\n",
       "      <td>3.836</td>\n",
       "      <td>7.216</td>\n",
       "      <td>5.428</td>\n",
       "      <td>1.592</td>\n",
       "      <td>1.788</td>\n",
       "      <td>...</td>\n",
       "      <td>6.157</td>\n",
       "      <td>0.660</td>\n",
       "      <td>0.033</td>\n",
       "      <td>-1.112</td>\n",
       "      <td>0.812</td>\n",
       "      <td>0.149</td>\n",
       "      <td>0.025</td>\n",
       "      <td>1</td>\n",
       "      <td>0</td>\n",
       "      <td>0</td>\n",
       "    </tr>\n",
       "    <tr>\n",
       "      <th>1</th>\n",
       "      <td>1</td>\n",
       "      <td>6625</td>\n",
       "      <td>1077</td>\n",
       "      <td>74</td>\n",
       "      <td>5.802</td>\n",
       "      <td>3.226</td>\n",
       "      <td>6.143</td>\n",
       "      <td>4.719</td>\n",
       "      <td>1.493</td>\n",
       "      <td>1.424</td>\n",
       "      <td>...</td>\n",
       "      <td>5.323</td>\n",
       "      <td>0.555</td>\n",
       "      <td>0.024</td>\n",
       "      <td>-1.114</td>\n",
       "      <td>0.745</td>\n",
       "      <td>0.159</td>\n",
       "      <td>0.023</td>\n",
       "      <td>1</td>\n",
       "      <td>0</td>\n",
       "      <td>0</td>\n",
       "    </tr>\n",
       "  </tbody>\n",
       "</table>\n",
       "<p>2 rows × 27 columns</p>\n",
       "</div>"
      ],
      "text/plain": [
       "   id  distance   len  Кол-во пиков  Сред.зн.пика    Min    Max  Медиана  \\\n",
       "0   1      6656  1077            82         6.616  3.836  7.216    5.428   \n",
       "1   1      6625  1077            74         5.802  3.226  6.143    4.719   \n",
       "\n",
       "   Смещение низ  Смещение верх  ...  Верх.квартиль  Дисперсия  Асимметрия  \\\n",
       "0         1.592          1.788  ...          6.157      0.660       0.033   \n",
       "1         1.493          1.424  ...          5.323      0.555       0.024   \n",
       "\n",
       "   Куртозис  Std откл.   Коэф.вариации  Std ошибка  X0  X1  X2  \n",
       "0    -1.112      0.812           0.149       0.025   1   0   0  \n",
       "1    -1.114      0.745           0.159       0.023   1   0   0  \n",
       "\n",
       "[2 rows x 27 columns]"
      ]
     },
     "execution_count": 5,
     "metadata": {},
     "output_type": "execute_result"
    }
   ],
   "source": [
    "file_name_dum_balance = './datasets/all_dataset_dum_balance.csv'\n",
    "data_balance = pd.read_csv(file_name_dum_balance, sep=\";\", encoding='utf8') #, low_memory=False)\n",
    "data_balance = data_balance.drop(['direction'], axis=1)\n",
    "data_balance.head(2)\n"
   ]
  },
  {
   "cell_type": "markdown",
   "id": "a54386b2-a480-4730-bfa5-e0f20e4d8e65",
   "metadata": {},
   "source": [
    "### Const"
   ]
  },
  {
   "cell_type": "code",
   "execution_count": 6,
   "id": "01dc793d-d039-4673-8776-0e2d742aa420",
   "metadata": {},
   "outputs": [],
   "source": [
    "f_0 = ['id', 'distance', 'Кол-во пиков', 'Сред.зн.пика', 'Медиана', 'Смещение', \n",
    "       'Ниж.квартиль', 'Верх.квартиль', 'Дисперсия', 'Куртозис', 'X0', 'X1', 'X2']\n",
    "f_1 = ['id', 'distance', 'Кол-во пиков', 'Сред.зн.пика', 'Медиана', 'Смещение', \n",
    "       'Верх.квартиль', 'Дисперсия', 'Куртозис', 'X0', 'X1', 'X2']\n",
    "# f_2 = ['Max', 'Mean', 'Std откл.', 'Асимметрия', 'Куртозис', 'id']\n",
    "f_3 = ['id', 'distance', 'Кол-во пиков', 'Медиана', 'Смещение', \n",
    "        'Ниж.квартиль', 'Верх.квартиль', 'Дисперсия', 'Куртозис', 'X0', 'X1', 'X2']\n",
    "f_4 = ['id', 'distance', 'Кол-во пиков', 'Медиана', 'Смещение', \n",
    "       'Ниж.квартиль', 'Верх.квартиль', 'Дисперсия', 'Куртозис', 'X0', 'X1', 'X2']\n",
    "\n",
    "# feature_3 = ['Max', 'Куртозис', 'Гарм.сред.', 'Std откл.', 'Асимметрия', 'Ниж.квартиль', 'Верх.квартиль', 'id'] \n",
    "feature_4 = ['Max', 'Куртозис', 'Гарм.сред.', 'Std откл.', 'Асимметрия', 'X0', 'X1', 'X2', 'id'] \n",
    "feature_5 = ['Max', 'Куртозис', 'Гарм.сред.', 'Std откл.', 'Асимметрия', 'distance', 'id'] \n",
    "feature_6 = ['Max', 'Куртозис', 'Гарм.сред.', 'Std откл.', 'Асимметрия', 'Кол-во пиков', 'Сред.зн.пика', 'id'] \n",
    "feature_7 = ['Max', 'Куртозис', 'Гарм.сред.', 'X0', 'X1', 'X2', 'distance', 'Кол-во пиков', 'Сред.зн.пика', 'id'] \n",
    "feature_8 = ['Max', 'Куртозис', 'Гарм.сред.', 'Std откл.', 'Асимметрия', 'X0', 'X1', 'X2', 'distance', 'id'] "
   ]
  },
  {
   "cell_type": "code",
   "execution_count": 7,
   "id": "655a4a0e-cf36-4db7-af12-d2a4a5eb4e3f",
   "metadata": {},
   "outputs": [
    {
     "data": {
      "text/plain": [
       "ExtraTreesClassifier(n_estimators=300, random_state=42)"
      ]
     },
     "execution_count": 7,
     "metadata": {},
     "output_type": "execute_result"
    }
   ],
   "source": [
    "LogisticRegression(max_iter=5000),\n",
    "KNeighborsClassifier(),\n",
    "RandomForestClassifier(n_estimators=300, random_state=42),\n",
    "AdaBoostClassifier()\n",
    "SVC(probability=True, random_state=0)\n",
    "GradientBoostingClassifier(n_estimators=200, random_state=42)\n",
    "KNeighborsClassifier(),  # Метод ближайших соседей со стандартными параметрами\n",
    "ExtraTreesClassifier(n_estimators=300, random_state=42)  # Случайный лес из 300 экстремальных деревьев"
   ]
  },
  {
   "cell_type": "markdown",
   "id": "42f4d8ae-db9c-4c9d-98ec-6b2df441daa6",
   "metadata": {},
   "source": [
    "### main"
   ]
  },
  {
   "cell_type": "code",
   "execution_count": 8,
   "id": "0c49f1a7-330b-4cb6-a4a9-d597f94c92e8",
   "metadata": {},
   "outputs": [
    {
     "name": "stdout",
     "output_type": "stream",
     "text": [
      "(3385, 12)\n",
      "stacking_accuracy: 0.743801652892562\n",
      "blending_accuracy: 0.7367178276269185\n"
     ]
    }
   ],
   "source": [
    "df = data_balance[f_0]\n",
    "y =  np.array(df['id'])  # Target variable\n",
    "X = np.array(df.drop('id', axis=1))  # Features\n",
    "X_train, X_test, y_train, y_test = train_test_split(X, y, test_size=0.2, shuffle=True, random_state=42)\n",
    "print(X_train.shape)\n",
    "\n",
    "estimators = [\n",
    "    # LogisticRegression(random_state=0, max_iter=10000),\n",
    "    # GradientBoostingClassifier(random_state=0),\n",
    "    # SVC(probability=True, random_state=0),\n",
    "    KNeighborsClassifier(),  # Метод ближайших соседей со стандартными параметрами\n",
    "    ExtraTreesClassifier(n_estimators=300, random_state=42)  # Случайный лес из 300 экстремальных деревьев\n",
    "]\n",
    "\n",
    "estimator = LogisticRegression(random_state=42)\n",
    "stacking_clf = Stacking(estimators=estimators, final_estimator=estimator)\n",
    "stacking_pred_res = stacking_clf.fit_predict(X_train, y_train, X_test)\n",
    "stacking_accuracy = accuracy_score(stacking_pred_res, y_test)\n",
    "print(f'stacking_accuracy: {stacking_accuracy}')\n",
    "\n",
    "blending_clf = Stacking(estimators=estimators, final_estimator=estimator, blending=True)\n",
    "blending_pred_res = blending_clf.fit_predict(X_train, y_train, X_test)\n",
    "blending_accuracy = accuracy_score(blending_pred_res, y_test)\n",
    "print(f'blending_accuracy: {blending_accuracy}')"
   ]
  },
  {
   "cell_type": "code",
   "execution_count": 1,
   "id": "3c40f3de-ddfc-43b6-810f-72bfe156ad1c",
   "metadata": {},
   "outputs": [
    {
     "ename": "NameError",
     "evalue": "name 'data_balance' is not defined",
     "output_type": "error",
     "traceback": [
      "\u001b[1;31m---------------------------------------------------------------------------\u001b[0m",
      "\u001b[1;31mNameError\u001b[0m                                 Traceback (most recent call last)",
      "Cell \u001b[1;32mIn[1], line 1\u001b[0m\n\u001b[1;32m----> 1\u001b[0m df \u001b[38;5;241m=\u001b[39m \u001b[43mdata_balance\u001b[49m\n\u001b[0;32m      2\u001b[0m y \u001b[38;5;241m=\u001b[39m  np\u001b[38;5;241m.\u001b[39marray(df[\u001b[38;5;124m'\u001b[39m\u001b[38;5;124mid\u001b[39m\u001b[38;5;124m'\u001b[39m])  \u001b[38;5;66;03m# Target variable\u001b[39;00m\n\u001b[0;32m      3\u001b[0m X \u001b[38;5;241m=\u001b[39m np\u001b[38;5;241m.\u001b[39marray(df\u001b[38;5;241m.\u001b[39mdrop(\u001b[38;5;124m'\u001b[39m\u001b[38;5;124mid\u001b[39m\u001b[38;5;124m'\u001b[39m, axis\u001b[38;5;241m=\u001b[39m\u001b[38;5;241m1\u001b[39m))  \u001b[38;5;66;03m# Features\u001b[39;00m\n",
      "\u001b[1;31mNameError\u001b[0m: name 'data_balance' is not defined"
     ]
    }
   ],
   "source": [
    "df = data_balance\n",
    "y =  np.array(df['id'])  # Target variable\n",
    "X = np.array(df.drop('id', axis=1))  # Features\n",
    "X_train, X_test, y_train, y_test = train_test_split(X, y, test_size=0.2, shuffle=True, random_state=42)\n",
    "print(X_train.shape)\n",
    "\n",
    "estimators = [\n",
    "    # LogisticRegression(random_state=0, max_iter=10000),\n",
    "    # GradientBoostingClassifier(random_state=0),\n",
    "    # SVC(probability=True, random_state=0),\n",
    "    KNeighborsClassifier(),  # Метод ближайших соседей со стандартными параметрами\n",
    "    ExtraTreesClassifier(n_estimators=300, random_state=42)  # Случайный лес из 300 экстремальных деревьев\n",
    "]\n",
    "\n",
    "estimator = LogisticRegression(random_state=42)\n",
    "stacking_clf = Stacking(estimators=estimators, final_estimator=estimator)\n",
    "stacking_pred_res = stacking_clf.fit_predict(X_train, y_train, X_test)\n",
    "stacking_accuracy = accuracy_score(stacking_pred_res, y_test)\n",
    "print(f'stacking_accuracy: {stacking_accuracy}')\n",
    "\n",
    "blending_clf = Stacking(estimators=estimators, final_estimator=estimator, blending=True)\n",
    "blending_pred_res = blending_clf.fit_predict(X_train, y_train, X_test)\n",
    "blending_accuracy = accuracy_score(blending_pred_res, y_test)\n",
    "print(f'blending_accuracy: {blending_accuracy}')"
   ]
  },
  {
   "cell_type": "code",
   "execution_count": 10,
   "id": "0f4a86f6-432a-41e9-8cd2-accc39431f89",
   "metadata": {},
   "outputs": [
    {
     "name": "stdout",
     "output_type": "stream",
     "text": [
      "(3385, 12)\n",
      "stacking_accuracy: 0.7603305785123967\n",
      "blending_accuracy: 0.7426210153482881\n"
     ]
    }
   ],
   "source": [
    "df = data_balance[f_0]\n",
    "y =  np.array(df['id'])  # Target variable\n",
    "X = np.array(df.drop('id', axis=1))  # Features\n",
    "X_train, X_test, y_train, y_test = train_test_split(X, y, test_size=0.2, shuffle=True, random_state=42)\n",
    "print(X_train.shape)\n",
    "\n",
    "estimators = [\n",
    "    LogisticRegression(max_iter=5000, random_state=42),\n",
    "    RandomForestClassifier(n_estimators=300, random_state=42),\n",
    "    AdaBoostClassifier(),\n",
    "    SVC(probability=True, random_state=42),\n",
    "    GradientBoostingClassifier(n_estimators=200, random_state=42),\n",
    "    KNeighborsClassifier(),  # Метод ближайших соседей со стандартными параметрами\n",
    "    ExtraTreesClassifier(n_estimators=300, random_state=42)  # Случайный лес из 300 экстремальных деревьев\n",
    "]\n",
    "\n",
    "estimator = LogisticRegression(random_state=0)\n",
    "stacking_clf = Stacking(estimators=estimators, final_estimator=estimator)\n",
    "stacking_pred_res = stacking_clf.fit_predict(X_train, y_train, X_test)\n",
    "stacking_accuracy = accuracy_score(stacking_pred_res, y_test)\n",
    "print(f'stacking_accuracy: {stacking_accuracy}')\n",
    "\n",
    "blending_clf = Stacking(estimators=estimators, final_estimator=estimator, blending=True)\n",
    "blending_pred_res = blending_clf.fit_predict(X_train, y_train, X_test)\n",
    "blending_accuracy = accuracy_score(blending_pred_res, y_test)\n",
    "print(f'blending_accuracy: {blending_accuracy}')"
   ]
  },
  {
   "cell_type": "code",
   "execution_count": 11,
   "id": "811431e9-741b-4370-a468-097ec7479fdb",
   "metadata": {},
   "outputs": [
    {
     "name": "stdout",
     "output_type": "stream",
     "text": [
      "(3385, 26)\n",
      "stacking_accuracy: 0.8028335301062574\n",
      "blending_accuracy: 0.7898465171192444\n"
     ]
    }
   ],
   "source": [
    "df = data_balance\n",
    "y =  np.array(df['id'])  # Target variable\n",
    "X = np.array(df.drop('id', axis=1))  # Features\n",
    "X_train, X_test, y_train, y_test = train_test_split(X, y, test_size=0.2, shuffle=True, random_state=42)\n",
    "print(X_train.shape)\n",
    "\n",
    "estimators = [\n",
    "    LogisticRegression(max_iter=5000, random_state=42),\n",
    "    RandomForestClassifier(n_estimators=300, random_state=42),\n",
    "    AdaBoostClassifier(),\n",
    "    SVC(probability=True, random_state=42),\n",
    "    GradientBoostingClassifier(n_estimators=200, random_state=42),\n",
    "    KNeighborsClassifier(),  # Метод ближайших соседей со стандартными параметрами\n",
    "    ExtraTreesClassifier(n_estimators=300, random_state=42)  # Случайный лес из 300 экстремальных деревьев\n",
    "]\n",
    "\n",
    "estimator = LogisticRegression(random_state=0)\n",
    "stacking_clf = Stacking(estimators=estimators, final_estimator=estimator)\n",
    "stacking_pred_res = stacking_clf.fit_predict(X_train, y_train, X_test)\n",
    "stacking_accuracy = accuracy_score(stacking_pred_res, y_test)\n",
    "print(f'stacking_accuracy: {stacking_accuracy}')\n",
    "\n",
    "blending_clf = Stacking(estimators=estimators, final_estimator=estimator, blending=True)\n",
    "blending_pred_res = blending_clf.fit_predict(X_train, y_train, X_test)\n",
    "blending_accuracy = accuracy_score(blending_pred_res, y_test)\n",
    "print(f'blending_accuracy: {blending_accuracy}')"
   ]
  },
  {
   "cell_type": "code",
   "execution_count": 12,
   "id": "2517d670-8553-4634-98ed-d072122e8016",
   "metadata": {},
   "outputs": [
    {
     "name": "stdout",
     "output_type": "stream",
     "text": [
      "(3385, 26)\n",
      "stacking_accuracy: 0.7922077922077922\n",
      "blending_accuracy: 0.7863046044864227\n"
     ]
    }
   ],
   "source": [
    "df = data_balance\n",
    "y =  np.array(df['id'])  # Target variable\n",
    "X = np.array(df.drop('id', axis=1))  # Features\n",
    "X_train, X_test, y_train, y_test = train_test_split(X, y, test_size=0.2, shuffle=True, random_state=42)\n",
    "print(X_train.shape)\n",
    "\n",
    "estimators = [\n",
    "    LogisticRegression(max_iter=5000, random_state=42),\n",
    "    RandomForestClassifier(n_estimators=100, random_state=42),\n",
    "    AdaBoostClassifier(),\n",
    "    SVC(probability=True, random_state=42),\n",
    "    GradientBoostingClassifier(n_estimators=100, random_state=42),\n",
    "    KNeighborsClassifier(),  # Метод ближайших соседей со стандартными параметрами\n",
    "    ExtraTreesClassifier(n_estimators=100, random_state=42)  # Случайный лес из 300 экстремальных деревьев\n",
    "]\n",
    "\n",
    "estimator = LogisticRegression(random_state=0)\n",
    "stacking_clf = Stacking(estimators=estimators, final_estimator=estimator)\n",
    "stacking_pred_res = stacking_clf.fit_predict(X_train, y_train, X_test)\n",
    "stacking_accuracy = accuracy_score(stacking_pred_res, y_test)\n",
    "print(f'stacking_accuracy: {stacking_accuracy}')\n",
    "\n",
    "blending_clf = Stacking(estimators=estimators, final_estimator=estimator, blending=True)\n",
    "blending_pred_res = blending_clf.fit_predict(X_train, y_train, X_test)\n",
    "blending_accuracy = accuracy_score(blending_pred_res, y_test)\n",
    "print(f'blending_accuracy: {blending_accuracy}')"
   ]
  },
  {
   "cell_type": "code",
   "execution_count": 13,
   "id": "f7b37b2e-b4ee-4fb8-bf98-30c3800b7eab",
   "metadata": {},
   "outputs": [
    {
     "name": "stdout",
     "output_type": "stream",
     "text": [
      "(3972, 26)\n",
      "stacking_accuracy: 0.771399798590131\n",
      "blending_accuracy: 0.7522658610271903\n"
     ]
    }
   ],
   "source": [
    "df = data\n",
    "y =  np.array(df['id'])  # Target variable\n",
    "X = np.array(df.drop('id', axis=1))  # Features\n",
    "X_train, X_test, y_train, y_test = train_test_split(X, y, test_size=0.2, shuffle=True, random_state=42)\n",
    "print(X_train.shape)\n",
    "\n",
    "estimators = [\n",
    "    LogisticRegression(max_iter=5000, random_state=42),\n",
    "    RandomForestClassifier(n_estimators=300, random_state=42),\n",
    "    AdaBoostClassifier(),\n",
    "    SVC(probability=True, random_state=42),\n",
    "    GradientBoostingClassifier(n_estimators=200, random_state=42),\n",
    "    KNeighborsClassifier(),  # Метод ближайших соседей со стандартными параметрами\n",
    "    ExtraTreesClassifier(n_estimators=300, random_state=42)  # Случайный лес из 300 экстремальных деревьев\n",
    "]\n",
    "\n",
    "estimator = LogisticRegression(random_state=0)\n",
    "stacking_clf = Stacking(estimators=estimators, final_estimator=estimator)\n",
    "stacking_pred_res = stacking_clf.fit_predict(X_train, y_train, X_test)\n",
    "stacking_accuracy = accuracy_score(stacking_pred_res, y_test)\n",
    "print(f'stacking_accuracy: {stacking_accuracy}')\n",
    "\n",
    "blending_clf = Stacking(estimators=estimators, final_estimator=estimator, blending=True)\n",
    "blending_pred_res = blending_clf.fit_predict(X_train, y_train, X_test)\n",
    "blending_accuracy = accuracy_score(blending_pred_res, y_test)\n",
    "print(f'blending_accuracy: {blending_accuracy}')"
   ]
  },
  {
   "cell_type": "code",
   "execution_count": 14,
   "id": "c839f2f0-7fd2-4037-b863-e99c410331ac",
   "metadata": {},
   "outputs": [
    {
     "name": "stdout",
     "output_type": "stream",
     "text": [
      "(3385, 12)\n",
      "stacking_accuracy: 0.7142857142857143\n",
      "blending_accuracy: 0.7107438016528925\n"
     ]
    }
   ],
   "source": [
    "df = data_balance[f_0]\n",
    "y =  np.array(df['id'])  # Target variable\n",
    "X = np.array(df.drop('id', axis=1))  # Features\n",
    "X_train, X_test, y_train, y_test = train_test_split(X, y, test_size=0.2, shuffle=True, random_state=42)\n",
    "print(X_train.shape)\n",
    "\n",
    "estimators = [\n",
    "    LogisticRegression(random_state=0, max_iter=10000),\n",
    "    GradientBoostingClassifier(random_state=0),\n",
    "    SVC(probability=True, random_state=0),\n",
    "]\n",
    "\n",
    "estimator = LogisticRegression(random_state=0)\n",
    "stacking_clf = Stacking(estimators=estimators, final_estimator=estimator)\n",
    "stacking_pred_res = stacking_clf.fit_predict(X_train, y_train, X_test)\n",
    "stacking_accuracy = accuracy_score(stacking_pred_res, y_test)\n",
    "print(f'stacking_accuracy: {stacking_accuracy}')\n",
    "\n",
    "blending_clf = Stacking(estimators=estimators, final_estimator=estimator, blending=True)\n",
    "blending_pred_res = blending_clf.fit_predict(X_train, y_train, X_test)\n",
    "blending_accuracy = accuracy_score(blending_pred_res, y_test)\n",
    "print(f'blending_accuracy: {blending_accuracy}')"
   ]
  },
  {
   "cell_type": "code",
   "execution_count": 15,
   "id": "65ffbba5-20fb-4807-af08-10282decfa40",
   "metadata": {},
   "outputs": [
    {
     "name": "stdout",
     "output_type": "stream",
     "text": [
      "(3385, 11)\n",
      "stacking_accuracy: 0.7225501770956316\n",
      "blending_accuracy: 0.706021251475797\n"
     ]
    }
   ],
   "source": [
    "df = data_balance[f_1]\n",
    "y =  np.array(df['id'])  # Target variable\n",
    "X = np.array(df.drop('id', axis=1))  # Features\n",
    "X_train, X_test, y_train, y_test = train_test_split(X, y, test_size=0.2, shuffle=True, random_state=42)\n",
    "print(X_train.shape)\n",
    "\n",
    "estimators = [LogisticRegression(random_state=0, max_iter=10000),\n",
    "              GradientBoostingClassifier(random_state=0),\n",
    "              SVC(probability=True, random_state=0)]\n",
    "\n",
    "estimator = RandomForestClassifier(random_state=0)\n",
    "stacking_clf = Stacking(estimators=estimators, final_estimator=estimator)\n",
    "stacking_pred_res = stacking_clf.fit_predict(X_train, y_train, X_test)\n",
    "stacking_accuracy = accuracy_score(stacking_pred_res, y_test)\n",
    "print(f'stacking_accuracy: {stacking_accuracy}')\n",
    "\n",
    "blending_clf = Stacking(estimators=estimators, final_estimator=estimator, blending=True)\n",
    "blending_pred_res = blending_clf.fit_predict(X_train, y_train, X_test)\n",
    "blending_accuracy = accuracy_score(blending_pred_res, y_test)\n",
    "print(f'blending_accuracy: {blending_accuracy}')"
   ]
  },
  {
   "cell_type": "code",
   "execution_count": 16,
   "id": "25f5d2c0-997a-415f-907c-a36c7060fe01",
   "metadata": {},
   "outputs": [
    {
     "name": "stdout",
     "output_type": "stream",
     "text": [
      "(3385, 11)\n",
      "stacking_accuracy: 0.7367178276269185\n",
      "blending_accuracy: 0.7201889020070839\n"
     ]
    }
   ],
   "source": [
    "df = data_balance[f_3]\n",
    "y =  np.array(df['id'])  # Target variable\n",
    "X = np.array(df.drop('id', axis=1))  # Features\n",
    "X_train, X_test, y_train, y_test = train_test_split(X, y, test_size=0.2, shuffle=True, random_state=42)\n",
    "print(X_train.shape)\n",
    "\n",
    "estimators = [LogisticRegression(random_state=0, max_iter=10000),\n",
    "              GradientBoostingClassifier(random_state=0),\n",
    "              SVC(probability=True, random_state=0)]\n",
    "\n",
    "estimator = RandomForestClassifier(random_state=0)\n",
    "stacking_clf = Stacking(estimators=estimators, final_estimator=estimator)\n",
    "stacking_pred_res = stacking_clf.fit_predict(X_train, y_train, X_test)\n",
    "stacking_accuracy = accuracy_score(stacking_pred_res, y_test)\n",
    "print(f'stacking_accuracy: {stacking_accuracy}')\n",
    "\n",
    "blending_clf = Stacking(estimators=estimators, final_estimator=estimator, blending=True)\n",
    "blending_pred_res = blending_clf.fit_predict(X_train, y_train, X_test)\n",
    "blending_accuracy = accuracy_score(blending_pred_res, y_test)\n",
    "print(f'blending_accuracy: {blending_accuracy}')"
   ]
  },
  {
   "cell_type": "code",
   "execution_count": 17,
   "id": "c42d9b14-5143-4e5b-a13f-650a89b92420",
   "metadata": {},
   "outputs": [
    {
     "name": "stdout",
     "output_type": "stream",
     "text": [
      "(3385, 11)\n",
      "stacking_accuracy: 0.7367178276269185\n",
      "blending_accuracy: 0.7201889020070839\n"
     ]
    }
   ],
   "source": [
    "df = data_balance[f_4]\n",
    "y =  np.array(df['id'])  # Target variable\n",
    "X = np.array(df.drop('id', axis=1))  # Features\n",
    "X_train, X_test, y_train, y_test = train_test_split(X, y, test_size=0.2, shuffle=True, random_state=42)\n",
    "print(X_train.shape)\n",
    "\n",
    "estimators = [LogisticRegression(random_state=0, max_iter=10000),\n",
    "              GradientBoostingClassifier(random_state=0),\n",
    "              SVC(probability=True, random_state=0)]\n",
    "\n",
    "estimator = RandomForestClassifier(random_state=0)\n",
    "stacking_clf = Stacking(estimators=estimators, final_estimator=estimator)\n",
    "stacking_pred_res = stacking_clf.fit_predict(X_train, y_train, X_test)\n",
    "stacking_accuracy = accuracy_score(stacking_pred_res, y_test)\n",
    "print(f'stacking_accuracy: {stacking_accuracy}')\n",
    "\n",
    "blending_clf = Stacking(estimators=estimators, final_estimator=estimator, blending=True)\n",
    "blending_pred_res = blending_clf.fit_predict(X_train, y_train, X_test)\n",
    "blending_accuracy = accuracy_score(blending_pred_res, y_test)\n",
    "print(f'blending_accuracy: {blending_accuracy}')"
   ]
  },
  {
   "cell_type": "code",
   "execution_count": 18,
   "id": "0ce99479-0b7a-4671-a504-e900148efa73",
   "metadata": {},
   "outputs": [
    {
     "name": "stdout",
     "output_type": "stream",
     "text": [
      "(3385, 6)\n",
      "stacking_accuracy: 0.731995277449823\n",
      "blending_accuracy: 0.717827626918536\n"
     ]
    }
   ],
   "source": [
    "df = data_balance[feature_5]\n",
    "y =  np.array(df['id'])  # Target variable\n",
    "X = np.array(df.drop('id', axis=1))  # Features\n",
    "X_train, X_test, y_train, y_test = train_test_split(X, y, test_size=0.2, shuffle=True, random_state=42)\n",
    "print(X_train.shape)\n",
    "\n",
    "estimators = [LogisticRegression(random_state=0, max_iter=10000),\n",
    "              GradientBoostingClassifier(random_state=0),\n",
    "              SVC(probability=True, random_state=0)]\n",
    "\n",
    "estimator = RandomForestClassifier(random_state=0)\n",
    "stacking_clf = Stacking(estimators=estimators, final_estimator=estimator)\n",
    "stacking_pred_res = stacking_clf.fit_predict(X_train, y_train, X_test)\n",
    "stacking_accuracy = accuracy_score(stacking_pred_res, y_test)\n",
    "print(f'stacking_accuracy: {stacking_accuracy}')\n",
    "\n",
    "blending_clf = Stacking(estimators=estimators, final_estimator=estimator, blending=True)\n",
    "blending_pred_res = blending_clf.fit_predict(X_train, y_train, X_test)\n",
    "blending_accuracy = accuracy_score(blending_pred_res, y_test)\n",
    "print(f'blending_accuracy: {blending_accuracy}')"
   ]
  },
  {
   "cell_type": "code",
   "execution_count": null,
   "id": "c6b17a2a-5406-453e-9caa-ffce833019e7",
   "metadata": {},
   "outputs": [
    {
     "name": "stdout",
     "output_type": "stream",
     "text": [
      "(3385, 7)\n"
     ]
    }
   ],
   "source": [
    "df = data_balance[feature_6]\n",
    "y =  np.array(df['id'])  # Target variable\n",
    "X = np.array(df.drop('id', axis=1))  # Features\n",
    "X_train, X_test, y_train, y_test = train_test_split(X, y, test_size=0.2, shuffle=True, random_state=42)\n",
    "print(X_train.shape)\n",
    "\n",
    "estimators = [LogisticRegression(random_state=0, max_iter=10000),\n",
    "              GradientBoostingClassifier(random_state=0),\n",
    "              SVC(probability=True, random_state=0)]\n",
    "\n",
    "estimator = RandomForestClassifier(random_state=0)\n",
    "stacking_clf = Stacking(estimators=estimators, final_estimator=estimator)\n",
    "stacking_pred_res = stacking_clf.fit_predict(X_train, y_train, X_test)\n",
    "stacking_accuracy = accuracy_score(stacking_pred_res, y_test)\n",
    "print(f'stacking_accuracy: {stacking_accuracy}')\n",
    "\n",
    "blending_clf = Stacking(estimators=estimators, final_estimator=estimator, blending=True)\n",
    "blending_pred_res = blending_clf.fit_predict(X_train, y_train, X_test)\n",
    "blending_accuracy = accuracy_score(blending_pred_res, y_test)\n",
    "print(f'blending_accuracy: {blending_accuracy}')"
   ]
  },
  {
   "cell_type": "code",
   "execution_count": null,
   "id": "40519cbb-0248-4ac2-bd9d-d3a68a8f9200",
   "metadata": {},
   "outputs": [],
   "source": [
    "df = data_balance[feature_7]\n",
    "y =  np.array(df['id'])  # Target variable\n",
    "X = np.array(df.drop('id', axis=1))  # Features\n",
    "X_train, X_test, y_train, y_test = train_test_split(X, y, test_size=0.2, shuffle=True, random_state=42)\n",
    "print(X_train.shape)\n",
    "\n",
    "estimators = [LogisticRegression(random_state=0, max_iter=10000),\n",
    "              GradientBoostingClassifier(random_state=0),\n",
    "              SVC(probability=True, random_state=0)]\n",
    "\n",
    "estimator = RandomForestClassifier(random_state=0)\n",
    "stacking_clf = Stacking(estimators=estimators, final_estimator=estimator)\n",
    "stacking_pred_res = stacking_clf.fit_predict(X_train, y_train, X_test)\n",
    "stacking_accuracy = accuracy_score(stacking_pred_res, y_test)\n",
    "print(f'stacking_accuracy: {stacking_accuracy}')\n",
    "\n",
    "blending_clf = Stacking(estimators=estimators, final_estimator=estimator, blending=True)\n",
    "blending_pred_res = blending_clf.fit_predict(X_train, y_train, X_test)\n",
    "blending_accuracy = accuracy_score(blending_pred_res, y_test)\n",
    "print(f'blending_accuracy: {blending_accuracy}')"
   ]
  },
  {
   "cell_type": "code",
   "execution_count": null,
   "id": "a6b8bcc5-2bc3-49e9-89ae-b8f1a97bce9c",
   "metadata": {},
   "outputs": [],
   "source": [
    "df = data_balance[feature_8]\n",
    "y =  np.array(df['id'])  # Target variable\n",
    "X = np.array(df.drop('id', axis=1))  # Features\n",
    "X_train, X_test, y_train, y_test = train_test_split(X, y, test_size=0.2, shuffle=True, random_state=42)\n",
    "print(X_train.shape)\n",
    "\n",
    "estimators = [LogisticRegression(random_state=0, max_iter=10000),\n",
    "              GradientBoostingClassifier(random_state=0),\n",
    "              SVC(probability=True, random_state=0)]\n",
    "\n",
    "estimator = RandomForestClassifier(random_state=0)\n",
    "stacking_clf = Stacking(estimators=estimators, final_estimator=estimator)\n",
    "stacking_pred_res = stacking_clf.fit_predict(X_train, y_train, X_test)\n",
    "stacking_accuracy = accuracy_score(stacking_pred_res, y_test)\n",
    "print(f'stacking_accuracy: {stacking_accuracy}')\n",
    "\n",
    "blending_clf = Stacking(estimators=estimators, final_estimator=estimator, blending=True)\n",
    "blending_pred_res = blending_clf.fit_predict(X_train, y_train, X_test)\n",
    "blending_accuracy = accuracy_score(blending_pred_res, y_test)\n",
    "print(f'blending_accuracy: {blending_accuracy}')"
   ]
  }
 ],
 "metadata": {
  "kernelspec": {
   "display_name": "Python 3 (ipykernel)",
   "language": "python",
   "name": "python3"
  },
  "language_info": {
   "codemirror_mode": {
    "name": "ipython",
    "version": 3
   },
   "file_extension": ".py",
   "mimetype": "text/x-python",
   "name": "python",
   "nbconvert_exporter": "python",
   "pygments_lexer": "ipython3",
   "version": "3.8.10"
  }
 },
 "nbformat": 4,
 "nbformat_minor": 5
}
